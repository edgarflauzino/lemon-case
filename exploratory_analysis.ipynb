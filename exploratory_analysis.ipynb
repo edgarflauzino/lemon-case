{
 "cells": [
  {
   "cell_type": "code",
   "execution_count": 1,
   "metadata": {},
   "outputs": [
    {
     "data": {
      "text/html": [
       "<div>\n",
       "<style scoped>\n",
       "    .dataframe tbody tr th:only-of-type {\n",
       "        vertical-align: middle;\n",
       "    }\n",
       "\n",
       "    .dataframe tbody tr th {\n",
       "        vertical-align: top;\n",
       "    }\n",
       "\n",
       "    .dataframe thead th {\n",
       "        text-align: right;\n",
       "    }\n",
       "</style>\n",
       "<table border=\"1\" class=\"dataframe\">\n",
       "  <thead>\n",
       "    <tr style=\"text-align: right;\">\n",
       "      <th></th>\n",
       "      <th>_id</th>\n",
       "      <th>SigAgente</th>\n",
       "      <th>DscClasseConsumo</th>\n",
       "      <th>NomRegiao</th>\n",
       "      <th>SigUF</th>\n",
       "      <th>NomMunicipio</th>\n",
       "      <th>SigTipoConsumidor</th>\n",
       "      <th>DthAtualizaCadastralEmpreend</th>\n",
       "      <th>SigModalidadeEmpreendimento</th>\n",
       "      <th>DscFonteGeracao</th>\n",
       "      <th>MdaPotenciaInstaladaKW</th>\n",
       "      <th>GeracaoMWh</th>\n",
       "      <th>DistParceira</th>\n",
       "    </tr>\n",
       "  </thead>\n",
       "  <tbody>\n",
       "    <tr>\n",
       "      <th>0</th>\n",
       "      <td>1852872</td>\n",
       "      <td>CPFL- PIRATININGA</td>\n",
       "      <td>Comercial</td>\n",
       "      <td>Sudeste</td>\n",
       "      <td>SP</td>\n",
       "      <td>Porto Feliz</td>\n",
       "      <td>PJ</td>\n",
       "      <td>2023-01-01 00:00:00+00:00</td>\n",
       "      <td>P</td>\n",
       "      <td>Radiação solar</td>\n",
       "      <td>1000.0</td>\n",
       "      <td>201.0</td>\n",
       "      <td>0</td>\n",
       "    </tr>\n",
       "    <tr>\n",
       "      <th>1</th>\n",
       "      <td>209347</td>\n",
       "      <td>CEBDIS</td>\n",
       "      <td>Comercial</td>\n",
       "      <td>Centro Oeste</td>\n",
       "      <td>DF</td>\n",
       "      <td>Brasília</td>\n",
       "      <td>PJ</td>\n",
       "      <td>2023-01-01 00:00:00+00:00</td>\n",
       "      <td>P</td>\n",
       "      <td>Radiação solar</td>\n",
       "      <td>624.0</td>\n",
       "      <td>93.6</td>\n",
       "      <td>1</td>\n",
       "    </tr>\n",
       "  </tbody>\n",
       "</table>\n",
       "</div>"
      ],
      "text/plain": [
       "       _id          SigAgente DscClasseConsumo     NomRegiao SigUF  \\\n",
       "0  1852872  CPFL- PIRATININGA        Comercial       Sudeste    SP   \n",
       "1   209347             CEBDIS        Comercial  Centro Oeste    DF   \n",
       "\n",
       "  NomMunicipio SigTipoConsumidor DthAtualizaCadastralEmpreend  \\\n",
       "0  Porto Feliz                PJ    2023-01-01 00:00:00+00:00   \n",
       "1     Brasília                PJ    2023-01-01 00:00:00+00:00   \n",
       "\n",
       "  SigModalidadeEmpreendimento DscFonteGeracao  MdaPotenciaInstaladaKW  \\\n",
       "0                           P  Radiação solar                  1000.0   \n",
       "1                           P  Radiação solar                   624.0   \n",
       "\n",
       "   GeracaoMWh  DistParceira  \n",
       "0       201.0             0  \n",
       "1        93.6             1  "
      ]
     },
     "execution_count": 1,
     "metadata": {},
     "output_type": "execute_result"
    }
   ],
   "source": [
    "import pandas as pd\n",
    "import seaborn as sns\n",
    "import matplotlib.pyplot as plt\n",
    "import numpy as np\n",
    "from google.oauth2 import service_account\n",
    "\n",
    "pd.options.mode.chained_assignment = None # default='warn'\n",
    "\n",
    "credentials = service_account.Credentials.from_service_account_file(\n",
    "    'google_key.json',\n",
    "    scopes=['https://www.googleapis.com/auth/cloud-platform'],\n",
    ")\n",
    "\n",
    "query = 'SELECT * FROM `gd_empreendimentos.projetos_2023`;' # view com os projetos recentes (2023)\n",
    "\n",
    "usinas_2023 = pd.read_gbq(query, credentials=credentials)\n",
    "\n",
    "usinas_2023.head(2)"
   ]
  },
  {
   "attachments": {},
   "cell_type": "markdown",
   "metadata": {},
   "source": [
    "### ANÁLISE DOS PROJETOS RECENTES (JAN-MAI 2023)\n",
    "Quanto a Lemon pode ganhar em capacidade de geração com os projetos de 2023?"
   ]
  },
  {
   "cell_type": "code",
   "execution_count": 2,
   "metadata": {},
   "outputs": [
    {
     "name": "stdout",
     "output_type": "stream",
     "text": [
      "<class 'pandas.core.frame.DataFrame'>\n",
      "Int64Index: 31 entries, 1 to 95\n",
      "Data columns (total 13 columns):\n",
      " #   Column                        Non-Null Count  Dtype              \n",
      "---  ------                        --------------  -----              \n",
      " 0   _id                           31 non-null     Int64              \n",
      " 1   SigAgente                     31 non-null     object             \n",
      " 2   DscClasseConsumo              31 non-null     object             \n",
      " 3   NomRegiao                     31 non-null     object             \n",
      " 4   SigUF                         31 non-null     object             \n",
      " 5   NomMunicipio                  31 non-null     object             \n",
      " 6   SigTipoConsumidor             31 non-null     object             \n",
      " 7   DthAtualizaCadastralEmpreend  31 non-null     datetime64[ns, UTC]\n",
      " 8   SigModalidadeEmpreendimento   31 non-null     object             \n",
      " 9   DscFonteGeracao               31 non-null     object             \n",
      " 10  MdaPotenciaInstaladaKW        31 non-null     float64            \n",
      " 11  GeracaoMWh                    31 non-null     float64            \n",
      " 12  DistParceira                  31 non-null     Int64              \n",
      "dtypes: Int64(2), datetime64[ns, UTC](1), float64(2), object(8)\n",
      "memory usage: 3.5+ KB\n"
     ]
    }
   ],
   "source": [
    "# seleção das usinas conectadas a distribuidoras parceiras, e informações da tabela\n",
    "\n",
    "usinas_2023_par = usinas_2023[usinas_2023['DistParceira']==1]\n",
    "usinas_2023_par.info()"
   ]
  },
  {
   "cell_type": "code",
   "execution_count": 3,
   "metadata": {},
   "outputs": [
    {
     "data": {
      "text/html": [
       "<div>\n",
       "<style scoped>\n",
       "    .dataframe tbody tr th:only-of-type {\n",
       "        vertical-align: middle;\n",
       "    }\n",
       "\n",
       "    .dataframe tbody tr th {\n",
       "        vertical-align: top;\n",
       "    }\n",
       "\n",
       "    .dataframe thead th {\n",
       "        text-align: right;\n",
       "    }\n",
       "</style>\n",
       "<table border=\"1\" class=\"dataframe\">\n",
       "  <thead>\n",
       "    <tr style=\"text-align: right;\">\n",
       "      <th></th>\n",
       "      <th>_id</th>\n",
       "      <th>MdaPotenciaInstaladaKW</th>\n",
       "      <th>GeracaoMWh</th>\n",
       "      <th>DistParceira</th>\n",
       "    </tr>\n",
       "  </thead>\n",
       "  <tbody>\n",
       "    <tr>\n",
       "      <th>count</th>\n",
       "      <td>31.0</td>\n",
       "      <td>31.000000</td>\n",
       "      <td>31.000000</td>\n",
       "      <td>31.0</td>\n",
       "    </tr>\n",
       "    <tr>\n",
       "      <th>mean</th>\n",
       "      <td>797065.096774</td>\n",
       "      <td>1415.037097</td>\n",
       "      <td>278.698710</td>\n",
       "      <td>1.0</td>\n",
       "    </tr>\n",
       "    <tr>\n",
       "      <th>std</th>\n",
       "      <td>546156.717454</td>\n",
       "      <td>826.104219</td>\n",
       "      <td>166.953861</td>\n",
       "      <td>0.0</td>\n",
       "    </tr>\n",
       "    <tr>\n",
       "      <th>min</th>\n",
       "      <td>209347.0</td>\n",
       "      <td>624.000000</td>\n",
       "      <td>93.600000</td>\n",
       "      <td>1.0</td>\n",
       "    </tr>\n",
       "    <tr>\n",
       "      <th>25%</th>\n",
       "      <td>581695.0</td>\n",
       "      <td>921.200000</td>\n",
       "      <td>185.160000</td>\n",
       "      <td>1.0</td>\n",
       "    </tr>\n",
       "    <tr>\n",
       "      <th>50%</th>\n",
       "      <td>585611.0</td>\n",
       "      <td>1000.000000</td>\n",
       "      <td>201.000000</td>\n",
       "      <td>1.0</td>\n",
       "    </tr>\n",
       "    <tr>\n",
       "      <th>75%</th>\n",
       "      <td>588433.5</td>\n",
       "      <td>1990.000000</td>\n",
       "      <td>349.500000</td>\n",
       "      <td>1.0</td>\n",
       "    </tr>\n",
       "    <tr>\n",
       "      <th>max</th>\n",
       "      <td>1894287.0</td>\n",
       "      <td>3500.000000</td>\n",
       "      <td>703.500000</td>\n",
       "      <td>1.0</td>\n",
       "    </tr>\n",
       "  </tbody>\n",
       "</table>\n",
       "</div>"
      ],
      "text/plain": [
       "                 _id  MdaPotenciaInstaladaKW  GeracaoMWh  DistParceira\n",
       "count           31.0               31.000000   31.000000          31.0\n",
       "mean   797065.096774             1415.037097  278.698710           1.0\n",
       "std    546156.717454              826.104219  166.953861           0.0\n",
       "min         209347.0              624.000000   93.600000           1.0\n",
       "25%         581695.0              921.200000  185.160000           1.0\n",
       "50%         585611.0             1000.000000  201.000000           1.0\n",
       "75%         588433.5             1990.000000  349.500000           1.0\n",
       "max        1894287.0             3500.000000  703.500000           1.0"
      ]
     },
     "execution_count": 3,
     "metadata": {},
     "output_type": "execute_result"
    }
   ],
   "source": [
    "# estatísticas resumidas de cada feature\n",
    "\n",
    "usinas_2023_par.describe()"
   ]
  },
  {
   "attachments": {},
   "cell_type": "markdown",
   "metadata": {},
   "source": [
    "Antes de calcular o potencial de ganho em geração com os projetos recentes, é preciso identificar se há outliers (valores atípicos) na base de dados e, se houver, removê-los de forma que o cálculo não fique enviesado."
   ]
  },
  {
   "cell_type": "code",
   "execution_count": 4,
   "metadata": {},
   "outputs": [
    {
     "data": {
      "text/plain": [
       "<AxesSubplot:xlabel='GeracaoMWh', ylabel='Count'>"
      ]
     },
     "execution_count": 4,
     "metadata": {},
     "output_type": "execute_result"
    },
    {
     "data": {
      "image/png": "[encoded data removed]",
      "text/plain": [
       "<Figure size 720x288 with 2 Axes>"
      ]
     },
     "metadata": {
      "needs_background": "light"
     },
     "output_type": "display_data"
    }
   ],
   "source": [
    "fig, ax = plt.subplots(1,2, figsize=(10,4))\n",
    "\n",
    "sns.boxplot(x='GeracaoMWh', data=usinas_2023_par, ax=ax[0])\n",
    "sns.histplot(x='GeracaoMWh', data=usinas_2023_par, bins=20, ax=ax[1])"
   ]
  },
  {
   "cell_type": "code",
   "execution_count": 5,
   "metadata": {},
   "outputs": [
    {
     "data": {
      "text/html": [
       "<div>\n",
       "<style scoped>\n",
       "    .dataframe tbody tr th:only-of-type {\n",
       "        vertical-align: middle;\n",
       "    }\n",
       "\n",
       "    .dataframe tbody tr th {\n",
       "        vertical-align: top;\n",
       "    }\n",
       "\n",
       "    .dataframe thead th {\n",
       "        text-align: right;\n",
       "    }\n",
       "</style>\n",
       "<table border=\"1\" class=\"dataframe\">\n",
       "  <thead>\n",
       "    <tr style=\"text-align: right;\">\n",
       "      <th></th>\n",
       "      <th>_id</th>\n",
       "      <th>SigAgente</th>\n",
       "      <th>DscClasseConsumo</th>\n",
       "      <th>NomRegiao</th>\n",
       "      <th>SigUF</th>\n",
       "      <th>NomMunicipio</th>\n",
       "      <th>SigTipoConsumidor</th>\n",
       "      <th>DthAtualizaCadastralEmpreend</th>\n",
       "      <th>SigModalidadeEmpreendimento</th>\n",
       "      <th>DscFonteGeracao</th>\n",
       "      <th>MdaPotenciaInstaladaKW</th>\n",
       "      <th>GeracaoMWh</th>\n",
       "      <th>DistParceira</th>\n",
       "    </tr>\n",
       "  </thead>\n",
       "  <tbody>\n",
       "    <tr>\n",
       "      <th>79</th>\n",
       "      <td>1881636</td>\n",
       "      <td>ELEKTRO</td>\n",
       "      <td>Comercial</td>\n",
       "      <td>Sudeste</td>\n",
       "      <td>SP</td>\n",
       "      <td>Santa Clara D'Oeste</td>\n",
       "      <td>PJ</td>\n",
       "      <td>2023-03-20 00:00:00+00:00</td>\n",
       "      <td>P</td>\n",
       "      <td>Radiação solar</td>\n",
       "      <td>3500.0</td>\n",
       "      <td>703.50</td>\n",
       "      <td>1</td>\n",
       "    </tr>\n",
       "    <tr>\n",
       "      <th>15</th>\n",
       "      <td>1838151</td>\n",
       "      <td>CPFL-PAULISTA</td>\n",
       "      <td>Comercial</td>\n",
       "      <td>Sudeste</td>\n",
       "      <td>SP</td>\n",
       "      <td>Icém</td>\n",
       "      <td>PJ</td>\n",
       "      <td>2023-01-19 00:00:00+00:00</td>\n",
       "      <td>R</td>\n",
       "      <td>Radiação solar</td>\n",
       "      <td>3500.0</td>\n",
       "      <td>703.50</td>\n",
       "      <td>1</td>\n",
       "    </tr>\n",
       "    <tr>\n",
       "      <th>64</th>\n",
       "      <td>581711</td>\n",
       "      <td>CEMIG-D</td>\n",
       "      <td>Rural</td>\n",
       "      <td>Sudeste</td>\n",
       "      <td>MG</td>\n",
       "      <td>Araçuaí</td>\n",
       "      <td>PJ</td>\n",
       "      <td>2023-03-03 00:00:00+00:00</td>\n",
       "      <td>P</td>\n",
       "      <td>Radiação solar</td>\n",
       "      <td>2500.0</td>\n",
       "      <td>502.50</td>\n",
       "      <td>1</td>\n",
       "    </tr>\n",
       "    <tr>\n",
       "      <th>75</th>\n",
       "      <td>585726</td>\n",
       "      <td>CEMIG-D</td>\n",
       "      <td>Comercial</td>\n",
       "      <td>Sudeste</td>\n",
       "      <td>MG</td>\n",
       "      <td>Pains</td>\n",
       "      <td>PJ</td>\n",
       "      <td>2023-03-10 00:00:00+00:00</td>\n",
       "      <td>P</td>\n",
       "      <td>Radiação solar</td>\n",
       "      <td>2500.0</td>\n",
       "      <td>502.50</td>\n",
       "      <td>1</td>\n",
       "    </tr>\n",
       "    <tr>\n",
       "      <th>57</th>\n",
       "      <td>585466</td>\n",
       "      <td>CEMIG-D</td>\n",
       "      <td>Comercial</td>\n",
       "      <td>Sudeste</td>\n",
       "      <td>MG</td>\n",
       "      <td>Araxá</td>\n",
       "      <td>PJ</td>\n",
       "      <td>2023-02-23 00:00:00+00:00</td>\n",
       "      <td>P</td>\n",
       "      <td>Radiação solar</td>\n",
       "      <td>2500.0</td>\n",
       "      <td>502.50</td>\n",
       "      <td>1</td>\n",
       "    </tr>\n",
       "    <tr>\n",
       "      <th>53</th>\n",
       "      <td>581612</td>\n",
       "      <td>CEMIG-D</td>\n",
       "      <td>Rural</td>\n",
       "      <td>Sudeste</td>\n",
       "      <td>MG</td>\n",
       "      <td>Montes Claros</td>\n",
       "      <td>PJ</td>\n",
       "      <td>2023-02-20 00:00:00+00:00</td>\n",
       "      <td>P</td>\n",
       "      <td>Radiação solar</td>\n",
       "      <td>2400.0</td>\n",
       "      <td>482.40</td>\n",
       "      <td>1</td>\n",
       "    </tr>\n",
       "    <tr>\n",
       "      <th>85</th>\n",
       "      <td>588430</td>\n",
       "      <td>CEMIG-D</td>\n",
       "      <td>Comercial</td>\n",
       "      <td>Sudeste</td>\n",
       "      <td>MG</td>\n",
       "      <td>Uberlândia</td>\n",
       "      <td>PJ</td>\n",
       "      <td>2023-03-29 00:00:00+00:00</td>\n",
       "      <td>P</td>\n",
       "      <td>Radiação solar</td>\n",
       "      <td>2400.0</td>\n",
       "      <td>482.40</td>\n",
       "      <td>1</td>\n",
       "    </tr>\n",
       "    <tr>\n",
       "      <th>42</th>\n",
       "      <td>581679</td>\n",
       "      <td>CEMIG-D</td>\n",
       "      <td>Rural</td>\n",
       "      <td>Sudeste</td>\n",
       "      <td>MG</td>\n",
       "      <td>Salinas</td>\n",
       "      <td>PJ</td>\n",
       "      <td>2023-02-06 00:00:00+00:00</td>\n",
       "      <td>P</td>\n",
       "      <td>Radiação solar</td>\n",
       "      <td>2000.0</td>\n",
       "      <td>402.00</td>\n",
       "      <td>1</td>\n",
       "    </tr>\n",
       "    <tr>\n",
       "      <th>95</th>\n",
       "      <td>212494</td>\n",
       "      <td>CEBDIS</td>\n",
       "      <td>Residencial</td>\n",
       "      <td>Centro Oeste</td>\n",
       "      <td>DF</td>\n",
       "      <td>Brasília</td>\n",
       "      <td>PF</td>\n",
       "      <td>2023-04-19 00:00:00+00:00</td>\n",
       "      <td>P</td>\n",
       "      <td>Radiação solar</td>\n",
       "      <td>1980.0</td>\n",
       "      <td>297.00</td>\n",
       "      <td>1</td>\n",
       "    </tr>\n",
       "    <tr>\n",
       "      <th>74</th>\n",
       "      <td>585564</td>\n",
       "      <td>CEMIG-D</td>\n",
       "      <td>Comercial</td>\n",
       "      <td>Sudeste</td>\n",
       "      <td>MG</td>\n",
       "      <td>Paraisópolis</td>\n",
       "      <td>PJ</td>\n",
       "      <td>2023-03-09 00:00:00+00:00</td>\n",
       "      <td>P</td>\n",
       "      <td>Radiação solar</td>\n",
       "      <td>1225.0</td>\n",
       "      <td>246.22</td>\n",
       "      <td>1</td>\n",
       "    </tr>\n",
       "  </tbody>\n",
       "</table>\n",
       "</div>"
      ],
      "text/plain": [
       "        _id      SigAgente DscClasseConsumo     NomRegiao SigUF  \\\n",
       "79  1881636        ELEKTRO        Comercial       Sudeste    SP   \n",
       "15  1838151  CPFL-PAULISTA        Comercial       Sudeste    SP   \n",
       "64   581711        CEMIG-D            Rural       Sudeste    MG   \n",
       "75   585726        CEMIG-D        Comercial       Sudeste    MG   \n",
       "57   585466        CEMIG-D        Comercial       Sudeste    MG   \n",
       "53   581612        CEMIG-D            Rural       Sudeste    MG   \n",
       "85   588430        CEMIG-D        Comercial       Sudeste    MG   \n",
       "42   581679        CEMIG-D            Rural       Sudeste    MG   \n",
       "95   212494         CEBDIS      Residencial  Centro Oeste    DF   \n",
       "74   585564        CEMIG-D        Comercial       Sudeste    MG   \n",
       "\n",
       "           NomMunicipio SigTipoConsumidor DthAtualizaCadastralEmpreend  \\\n",
       "79  Santa Clara D'Oeste                PJ    2023-03-20 00:00:00+00:00   \n",
       "15                 Icém                PJ    2023-01-19 00:00:00+00:00   \n",
       "64              Araçuaí                PJ    2023-03-03 00:00:00+00:00   \n",
       "75                Pains                PJ    2023-03-10 00:00:00+00:00   \n",
       "57                Araxá                PJ    2023-02-23 00:00:00+00:00   \n",
       "53        Montes Claros                PJ    2023-02-20 00:00:00+00:00   \n",
       "85           Uberlândia                PJ    2023-03-29 00:00:00+00:00   \n",
       "42              Salinas                PJ    2023-02-06 00:00:00+00:00   \n",
       "95             Brasília                PF    2023-04-19 00:00:00+00:00   \n",
       "74         Paraisópolis                PJ    2023-03-09 00:00:00+00:00   \n",
       "\n",
       "   SigModalidadeEmpreendimento DscFonteGeracao  MdaPotenciaInstaladaKW  \\\n",
       "79                           P  Radiação solar                  3500.0   \n",
       "15                           R  Radiação solar                  3500.0   \n",
       "64                           P  Radiação solar                  2500.0   \n",
       "75                           P  Radiação solar                  2500.0   \n",
       "57                           P  Radiação solar                  2500.0   \n",
       "53                           P  Radiação solar                  2400.0   \n",
       "85                           P  Radiação solar                  2400.0   \n",
       "42                           P  Radiação solar                  2000.0   \n",
       "95                           P  Radiação solar                  1980.0   \n",
       "74                           P  Radiação solar                  1225.0   \n",
       "\n",
       "    GeracaoMWh  DistParceira  \n",
       "79      703.50             1  \n",
       "15      703.50             1  \n",
       "64      502.50             1  \n",
       "75      502.50             1  \n",
       "57      502.50             1  \n",
       "53      482.40             1  \n",
       "85      482.40             1  \n",
       "42      402.00             1  \n",
       "95      297.00             1  \n",
       "74      246.22             1  "
      ]
     },
     "execution_count": 5,
     "metadata": {},
     "output_type": "execute_result"
    }
   ],
   "source": [
    "usinas_2023_par = usinas_2023_par.sort_values('GeracaoMWh', ascending=False)\n",
    "usinas_2023_par.head(10)"
   ]
  },
  {
   "attachments": {},
   "cell_type": "markdown",
   "metadata": {},
   "source": [
    "Pelo gráfico de caixa, percebe-se 2 outliers, com geração de 700MWh/mês. Ao checar a distribuição/histograma de geração, percebe-se ainda que projetos acima de 300MWh/mês pode potencialmente enviesar o cálculo da nossa média de geração. Para corrigir isso (e consequentemente diminuir a média de geração por projeto), é preciso retirar usinas que geram acima de 300MWh/mês."
   ]
  },
  {
   "cell_type": "code",
   "execution_count": 6,
   "metadata": {},
   "outputs": [
    {
     "data": {
      "text/html": [
       "<div>\n",
       "<style scoped>\n",
       "    .dataframe tbody tr th:only-of-type {\n",
       "        vertical-align: middle;\n",
       "    }\n",
       "\n",
       "    .dataframe tbody tr th {\n",
       "        vertical-align: top;\n",
       "    }\n",
       "\n",
       "    .dataframe thead th {\n",
       "        text-align: right;\n",
       "    }\n",
       "</style>\n",
       "<table border=\"1\" class=\"dataframe\">\n",
       "  <thead>\n",
       "    <tr style=\"text-align: right;\">\n",
       "      <th></th>\n",
       "      <th>_id</th>\n",
       "      <th>SigAgente</th>\n",
       "      <th>DscClasseConsumo</th>\n",
       "      <th>NomRegiao</th>\n",
       "      <th>SigUF</th>\n",
       "      <th>NomMunicipio</th>\n",
       "      <th>SigTipoConsumidor</th>\n",
       "      <th>DthAtualizaCadastralEmpreend</th>\n",
       "      <th>SigModalidadeEmpreendimento</th>\n",
       "      <th>DscFonteGeracao</th>\n",
       "      <th>MdaPotenciaInstaladaKW</th>\n",
       "      <th>GeracaoMWh</th>\n",
       "      <th>DistParceira</th>\n",
       "    </tr>\n",
       "  </thead>\n",
       "  <tbody>\n",
       "    <tr>\n",
       "      <th>95</th>\n",
       "      <td>212494</td>\n",
       "      <td>CEBDIS</td>\n",
       "      <td>Residencial</td>\n",
       "      <td>Centro Oeste</td>\n",
       "      <td>DF</td>\n",
       "      <td>Brasília</td>\n",
       "      <td>PF</td>\n",
       "      <td>2023-04-19 00:00:00+00:00</td>\n",
       "      <td>P</td>\n",
       "      <td>Radiação solar</td>\n",
       "      <td>1980.0</td>\n",
       "      <td>297.00</td>\n",
       "      <td>1</td>\n",
       "    </tr>\n",
       "    <tr>\n",
       "      <th>74</th>\n",
       "      <td>585564</td>\n",
       "      <td>CEMIG-D</td>\n",
       "      <td>Comercial</td>\n",
       "      <td>Sudeste</td>\n",
       "      <td>MG</td>\n",
       "      <td>Paraisópolis</td>\n",
       "      <td>PJ</td>\n",
       "      <td>2023-03-09 00:00:00+00:00</td>\n",
       "      <td>P</td>\n",
       "      <td>Radiação solar</td>\n",
       "      <td>1225.0</td>\n",
       "      <td>246.22</td>\n",
       "      <td>1</td>\n",
       "    </tr>\n",
       "    <tr>\n",
       "      <th>76</th>\n",
       "      <td>585555</td>\n",
       "      <td>CEMIG-D</td>\n",
       "      <td>Comercial</td>\n",
       "      <td>Sudeste</td>\n",
       "      <td>MG</td>\n",
       "      <td>Paraisópolis</td>\n",
       "      <td>PJ</td>\n",
       "      <td>2023-03-10 00:00:00+00:00</td>\n",
       "      <td>P</td>\n",
       "      <td>Radiação solar</td>\n",
       "      <td>1225.0</td>\n",
       "      <td>246.22</td>\n",
       "      <td>1</td>\n",
       "    </tr>\n",
       "    <tr>\n",
       "      <th>70</th>\n",
       "      <td>585694</td>\n",
       "      <td>CEMIG-D</td>\n",
       "      <td>Residencial</td>\n",
       "      <td>Sudeste</td>\n",
       "      <td>MG</td>\n",
       "      <td>Grão Mogol</td>\n",
       "      <td>PJ</td>\n",
       "      <td>2023-03-06 00:00:00+00:00</td>\n",
       "      <td>P</td>\n",
       "      <td>Radiação solar</td>\n",
       "      <td>1146.0</td>\n",
       "      <td>230.35</td>\n",
       "      <td>1</td>\n",
       "    </tr>\n",
       "    <tr>\n",
       "      <th>88</th>\n",
       "      <td>589784</td>\n",
       "      <td>CEMIG-D</td>\n",
       "      <td>Comercial</td>\n",
       "      <td>Sudeste</td>\n",
       "      <td>MG</td>\n",
       "      <td>Taiobeiras</td>\n",
       "      <td>PJ</td>\n",
       "      <td>2023-04-03 00:00:00+00:00</td>\n",
       "      <td>P</td>\n",
       "      <td>Radiação solar</td>\n",
       "      <td>1000.0</td>\n",
       "      <td>201.00</td>\n",
       "      <td>1</td>\n",
       "    </tr>\n",
       "  </tbody>\n",
       "</table>\n",
       "</div>"
      ],
      "text/plain": [
       "       _id SigAgente DscClasseConsumo     NomRegiao SigUF  NomMunicipio  \\\n",
       "95  212494    CEBDIS      Residencial  Centro Oeste    DF      Brasília   \n",
       "74  585564   CEMIG-D        Comercial       Sudeste    MG  Paraisópolis   \n",
       "76  585555   CEMIG-D        Comercial       Sudeste    MG  Paraisópolis   \n",
       "70  585694   CEMIG-D      Residencial       Sudeste    MG    Grão Mogol   \n",
       "88  589784   CEMIG-D        Comercial       Sudeste    MG    Taiobeiras   \n",
       "\n",
       "   SigTipoConsumidor DthAtualizaCadastralEmpreend SigModalidadeEmpreendimento  \\\n",
       "95                PF    2023-04-19 00:00:00+00:00                           P   \n",
       "74                PJ    2023-03-09 00:00:00+00:00                           P   \n",
       "76                PJ    2023-03-10 00:00:00+00:00                           P   \n",
       "70                PJ    2023-03-06 00:00:00+00:00                           P   \n",
       "88                PJ    2023-04-03 00:00:00+00:00                           P   \n",
       "\n",
       "   DscFonteGeracao  MdaPotenciaInstaladaKW  GeracaoMWh  DistParceira  \n",
       "95  Radiação solar                  1980.0      297.00             1  \n",
       "74  Radiação solar                  1225.0      246.22             1  \n",
       "76  Radiação solar                  1225.0      246.22             1  \n",
       "70  Radiação solar                  1146.0      230.35             1  \n",
       "88  Radiação solar                  1000.0      201.00             1  "
      ]
     },
     "execution_count": 6,
     "metadata": {},
     "output_type": "execute_result"
    }
   ],
   "source": [
    "# remove as usinas com geração atípica da base (outliers)\n",
    "\n",
    "usinas_2023_par = usinas_2023_par[usinas_2023_par['GeracaoMWh']<=300]\n",
    "\n",
    "usinas_2023_par.head(5)"
   ]
  },
  {
   "cell_type": "code",
   "execution_count": 7,
   "metadata": {},
   "outputs": [
    {
     "data": {
      "text/plain": [
       "<AxesSubplot:xlabel='GeracaoMWh', ylabel='Count'>"
      ]
     },
     "execution_count": 7,
     "metadata": {},
     "output_type": "execute_result"
    },
    {
     "data": {
      "image/png": "[encoded data removed]",
      "text/plain": [
       "<Figure size 576x216 with 2 Axes>"
      ]
     },
     "metadata": {
      "needs_background": "light"
     },
     "output_type": "display_data"
    }
   ],
   "source": [
    "# checar se ainda há outliers\n",
    "fig, ax = plt.subplots(1,2, figsize=(8,3))\n",
    "\n",
    "sns.boxplot(x='GeracaoMWh', data=usinas_2023_par,ax=ax[0])\n",
    "sns.histplot(x='GeracaoMWh', data=usinas_2023_par, bins=15,ax=ax[1])"
   ]
  },
  {
   "attachments": {},
   "cell_type": "markdown",
   "metadata": {},
   "source": [
    "Ainda há valores fora dos limites superior e inferior no boxplot, porém são simétricos e não devem atrapalhar o cálculo da média, e a distribuição mostra uma aproximação normal, com maior concentração na região central de 200MWh/mês, de forma que achar a tendência central pela média é uma boa aproximação."
   ]
  },
  {
   "cell_type": "code",
   "execution_count": 8,
   "metadata": {},
   "outputs": [
    {
     "data": {
      "text/html": [
       "<div>\n",
       "<style scoped>\n",
       "    .dataframe tbody tr th:only-of-type {\n",
       "        vertical-align: middle;\n",
       "    }\n",
       "\n",
       "    .dataframe tbody tr th {\n",
       "        vertical-align: top;\n",
       "    }\n",
       "\n",
       "    .dataframe thead th {\n",
       "        text-align: right;\n",
       "    }\n",
       "</style>\n",
       "<table border=\"1\" class=\"dataframe\">\n",
       "  <thead>\n",
       "    <tr style=\"text-align: right;\">\n",
       "      <th></th>\n",
       "      <th>_id</th>\n",
       "      <th>MdaPotenciaInstaladaKW</th>\n",
       "      <th>GeracaoMWh</th>\n",
       "      <th>DistParceira</th>\n",
       "    </tr>\n",
       "  </thead>\n",
       "  <tbody>\n",
       "    <tr>\n",
       "      <th>count</th>\n",
       "      <td>23.0</td>\n",
       "      <td>23.000000</td>\n",
       "      <td>23.000000</td>\n",
       "      <td>23.0</td>\n",
       "    </tr>\n",
       "    <tr>\n",
       "      <th>mean</th>\n",
       "      <td>760200.304348</td>\n",
       "      <td>981.136957</td>\n",
       "      <td>189.493913</td>\n",
       "      <td>1.0</td>\n",
       "    </tr>\n",
       "    <tr>\n",
       "      <th>std</th>\n",
       "      <td>538729.482276</td>\n",
       "      <td>272.629553</td>\n",
       "      <td>44.629987</td>\n",
       "      <td>0.0</td>\n",
       "    </tr>\n",
       "    <tr>\n",
       "      <th>min</th>\n",
       "      <td>209347.0</td>\n",
       "      <td>624.000000</td>\n",
       "      <td>93.600000</td>\n",
       "      <td>1.0</td>\n",
       "    </tr>\n",
       "    <tr>\n",
       "      <th>25%</th>\n",
       "      <td>583538.0</td>\n",
       "      <td>875.000000</td>\n",
       "      <td>163.315000</td>\n",
       "      <td>1.0</td>\n",
       "    </tr>\n",
       "    <tr>\n",
       "      <th>50%</th>\n",
       "      <td>585611.0</td>\n",
       "      <td>1000.000000</td>\n",
       "      <td>201.000000</td>\n",
       "      <td>1.0</td>\n",
       "    </tr>\n",
       "    <tr>\n",
       "      <th>75%</th>\n",
       "      <td>587341.5</td>\n",
       "      <td>1000.000000</td>\n",
       "      <td>201.000000</td>\n",
       "      <td>1.0</td>\n",
       "    </tr>\n",
       "    <tr>\n",
       "      <th>max</th>\n",
       "      <td>1894287.0</td>\n",
       "      <td>1980.000000</td>\n",
       "      <td>297.000000</td>\n",
       "      <td>1.0</td>\n",
       "    </tr>\n",
       "  </tbody>\n",
       "</table>\n",
       "</div>"
      ],
      "text/plain": [
       "                 _id  MdaPotenciaInstaladaKW  GeracaoMWh  DistParceira\n",
       "count           23.0               23.000000   23.000000          23.0\n",
       "mean   760200.304348              981.136957  189.493913           1.0\n",
       "std    538729.482276              272.629553   44.629987           0.0\n",
       "min         209347.0              624.000000   93.600000           1.0\n",
       "25%         583538.0              875.000000  163.315000           1.0\n",
       "50%         585611.0             1000.000000  201.000000           1.0\n",
       "75%         587341.5             1000.000000  201.000000           1.0\n",
       "max        1894287.0             1980.000000  297.000000           1.0"
      ]
     },
     "execution_count": 8,
     "metadata": {},
     "output_type": "execute_result"
    }
   ],
   "source": [
    "usinas_2023_par.describe()"
   ]
  },
  {
   "attachments": {},
   "cell_type": "markdown",
   "metadata": {},
   "source": [
    "Analisando os dados acima, temos 31 projetos recentes em 2023, incluindo os projetos com geração muito acima. A capacidade média de geração é de aproximadamente 190MWh/mês (removendo os outliers). Dado a premissa de conversão de 6.4%, é possível inferir que 2 dos 31 projetos podem se tornar parceiros da Lemon. Admitindo a geração média de 190MWh/mês, converter 2 usinas pode gerar um ganho aproximado de 380MWh/mês, ou seja, 5.5% do nosso objetivo.\n",
    "\n",
    "---"
   ]
  },
  {
   "attachments": {},
   "cell_type": "markdown",
   "metadata": {},
   "source": [
    "### PREVISÃO DE NOVOS PROJETOS NAS DISTRIBUIDORAS PARCEIRAS\n",
    "\n",
    "Qual a número de projetos e capacidade média de geração por ano? Isso segue uma tendência? É correto utilizar regressão para prever o número de novos projetos e a capacidade média de geração nos próximos 2 anos?"
   ]
  },
  {
   "cell_type": "code",
   "execution_count": 9,
   "metadata": {},
   "outputs": [
    {
     "data": {
      "text/html": [
       "<div>\n",
       "<style scoped>\n",
       "    .dataframe tbody tr th:only-of-type {\n",
       "        vertical-align: middle;\n",
       "    }\n",
       "\n",
       "    .dataframe tbody tr th {\n",
       "        vertical-align: top;\n",
       "    }\n",
       "\n",
       "    .dataframe thead th {\n",
       "        text-align: right;\n",
       "    }\n",
       "</style>\n",
       "<table border=\"1\" class=\"dataframe\">\n",
       "  <thead>\n",
       "    <tr style=\"text-align: right;\">\n",
       "      <th></th>\n",
       "      <th>_id</th>\n",
       "      <th>SigAgente</th>\n",
       "      <th>DscClasseConsumo</th>\n",
       "      <th>NomRegiao</th>\n",
       "      <th>SigUF</th>\n",
       "      <th>NomMunicipio</th>\n",
       "      <th>SigTipoConsumidor</th>\n",
       "      <th>DthAtualizaCadastralEmpreend</th>\n",
       "      <th>SigModalidadeEmpreendimento</th>\n",
       "      <th>DscFonteGeracao</th>\n",
       "      <th>MdaPotenciaInstaladaKW</th>\n",
       "      <th>GeracaoMWh</th>\n",
       "      <th>DistParceira</th>\n",
       "    </tr>\n",
       "  </thead>\n",
       "  <tbody>\n",
       "    <tr>\n",
       "      <th>0</th>\n",
       "      <td>169170</td>\n",
       "      <td>ENEL CE</td>\n",
       "      <td>Poder Público</td>\n",
       "      <td>Nordeste</td>\n",
       "      <td>CE</td>\n",
       "      <td>Juazeiro do Norte</td>\n",
       "      <td>PJ</td>\n",
       "      <td>2022-05-26 00:00:00+00:00</td>\n",
       "      <td>P</td>\n",
       "      <td>Radiação solar</td>\n",
       "      <td>610.0</td>\n",
       "      <td>109.8</td>\n",
       "      <td>0</td>\n",
       "    </tr>\n",
       "    <tr>\n",
       "      <th>1</th>\n",
       "      <td>323970</td>\n",
       "      <td>Equatorial MA</td>\n",
       "      <td>Serviço Público</td>\n",
       "      <td>Nordeste</td>\n",
       "      <td>MA</td>\n",
       "      <td>Timon</td>\n",
       "      <td>PJ</td>\n",
       "      <td>2020-06-09 00:00:00+00:00</td>\n",
       "      <td>R</td>\n",
       "      <td>Radiação solar</td>\n",
       "      <td>1000.0</td>\n",
       "      <td>180.0</td>\n",
       "      <td>0</td>\n",
       "    </tr>\n",
       "  </tbody>\n",
       "</table>\n",
       "</div>"
      ],
      "text/plain": [
       "      _id      SigAgente DscClasseConsumo NomRegiao SigUF       NomMunicipio  \\\n",
       "0  169170        ENEL CE    Poder Público  Nordeste    CE  Juazeiro do Norte   \n",
       "1  323970  Equatorial MA  Serviço Público  Nordeste    MA              Timon   \n",
       "\n",
       "  SigTipoConsumidor DthAtualizaCadastralEmpreend SigModalidadeEmpreendimento  \\\n",
       "0                PJ    2022-05-26 00:00:00+00:00                           P   \n",
       "1                PJ    2020-06-09 00:00:00+00:00                           R   \n",
       "\n",
       "  DscFonteGeracao  MdaPotenciaInstaladaKW  GeracaoMWh  DistParceira  \n",
       "0  Radiação solar                   610.0       109.8             0  \n",
       "1  Radiação solar                  1000.0       180.0             0  "
      ]
     },
     "execution_count": 9,
     "metadata": {},
     "output_type": "execute_result"
    }
   ],
   "source": [
    "# seleciona a view \"projetos_sel\", com todos os projetos que se enquadram\n",
    "\n",
    "query = 'SELECT * FROM `gd_empreendimentos.projetos_sel`;'\n",
    "\n",
    "usinas_tot = pd.read_gbq(query, credentials=credentials)\n",
    "\n",
    "usinas_tot.head(2)"
   ]
  },
  {
   "cell_type": "code",
   "execution_count": 10,
   "metadata": {},
   "outputs": [],
   "source": [
    "# seleciona apenas distribuidoras parceiras, cria uma coluna com o ano\n",
    "# agrupa quantidade de projetos e geracao media por ano\n",
    "\n",
    "usinas_tot_par = usinas_tot[usinas_tot['DistParceira']==1]\n",
    "usinas_tot_par['Ano'] = usinas_tot_par['DthAtualizaCadastralEmpreend'].dt.year\n",
    "\n",
    "usinas_qtd_par = usinas_tot_par.groupby(['Ano'])['Ano'].size().reset_index(name='QtdUsinas')\n",
    "usinas_qtd_par = usinas_qtd_par[usinas_qtd_par['Ano'] != 2023]\n",
    "\n",
    "usinas_ger_par = usinas_tot_par.groupby(['Ano'])['GeracaoMWh'].mean().reset_index(name='GeracaoMediaMWh')"
   ]
  },
  {
   "cell_type": "code",
   "execution_count": 11,
   "metadata": {},
   "outputs": [
    {
     "data": {
      "text/plain": [
       "<AxesSubplot:xlabel='Ano', ylabel='GeracaoMediaMWh'>"
      ]
     },
     "execution_count": 11,
     "metadata": {},
     "output_type": "execute_result"
    },
    {
     "data": {
      "image/png": "[encoded data removed]",
      "text/plain": [
       "<Figure size 864x360 with 2 Axes>"
      ]
     },
     "metadata": {
      "needs_background": "light"
     },
     "output_type": "display_data"
    }
   ],
   "source": [
    "fig, ax = plt.subplots(1,2, figsize=(12,5))\n",
    "\n",
    "sns.scatterplot(ax=ax[0], x='Ano', y='QtdUsinas', data=usinas_qtd_par)\n",
    "sns.scatterplot(ax=ax[1], x='Ano', y='GeracaoMediaMWh', data=usinas_ger_par)"
   ]
  },
  {
   "cell_type": "code",
   "execution_count": 12,
   "metadata": {},
   "outputs": [
    {
     "data": {
      "text/html": [
       "<div>\n",
       "<style scoped>\n",
       "    .dataframe tbody tr th:only-of-type {\n",
       "        vertical-align: middle;\n",
       "    }\n",
       "\n",
       "    .dataframe tbody tr th {\n",
       "        vertical-align: top;\n",
       "    }\n",
       "\n",
       "    .dataframe thead th {\n",
       "        text-align: right;\n",
       "    }\n",
       "</style>\n",
       "<table border=\"1\" class=\"dataframe\">\n",
       "  <thead>\n",
       "    <tr style=\"text-align: right;\">\n",
       "      <th></th>\n",
       "      <th>Ano</th>\n",
       "      <th>QtdUsinas</th>\n",
       "    </tr>\n",
       "  </thead>\n",
       "  <tbody>\n",
       "    <tr>\n",
       "      <th>0</th>\n",
       "      <td>2013</td>\n",
       "      <td>1</td>\n",
       "    </tr>\n",
       "    <tr>\n",
       "      <th>1</th>\n",
       "      <td>2015</td>\n",
       "      <td>2</td>\n",
       "    </tr>\n",
       "    <tr>\n",
       "      <th>2</th>\n",
       "      <td>2016</td>\n",
       "      <td>2</td>\n",
       "    </tr>\n",
       "    <tr>\n",
       "      <th>3</th>\n",
       "      <td>2017</td>\n",
       "      <td>20</td>\n",
       "    </tr>\n",
       "    <tr>\n",
       "      <th>4</th>\n",
       "      <td>2018</td>\n",
       "      <td>28</td>\n",
       "    </tr>\n",
       "    <tr>\n",
       "      <th>5</th>\n",
       "      <td>2019</td>\n",
       "      <td>48</td>\n",
       "    </tr>\n",
       "    <tr>\n",
       "      <th>6</th>\n",
       "      <td>2020</td>\n",
       "      <td>120</td>\n",
       "    </tr>\n",
       "    <tr>\n",
       "      <th>7</th>\n",
       "      <td>2021</td>\n",
       "      <td>143</td>\n",
       "    </tr>\n",
       "    <tr>\n",
       "      <th>8</th>\n",
       "      <td>2022</td>\n",
       "      <td>156</td>\n",
       "    </tr>\n",
       "  </tbody>\n",
       "</table>\n",
       "</div>"
      ],
      "text/plain": [
       "    Ano  QtdUsinas\n",
       "0  2013          1\n",
       "1  2015          2\n",
       "2  2016          2\n",
       "3  2017         20\n",
       "4  2018         28\n",
       "5  2019         48\n",
       "6  2020        120\n",
       "7  2021        143\n",
       "8  2022        156"
      ]
     },
     "execution_count": 12,
     "metadata": {},
     "output_type": "execute_result"
    }
   ],
   "source": [
    "usinas_qtd_par"
   ]
  },
  {
   "attachments": {},
   "cell_type": "markdown",
   "metadata": {},
   "source": [
    "Apenas a partir de 2017 pode-se ter um resultado estatisticamente significante, dado que nos anos anteriores haviam no máximo 2 projetos com os requisitos de negócio da Lemon em cada ano. Também é possível ver que, a partir de 2016, houve um aumento aparentemente linear na quantidade de usinas. Isso pode ser explicado pela resolução 687/2015 da ANEEL, publicada em 2015 e válida a partir de 2016, que apresenta diversas melhorias para o setor de geração distribuída, incluindo novas fontes de geração, novas modalidades, maior capacidade total, etc. \n",
    "Agora, pode-se analisar a viabilidade de traçar uma regressão linear e prever a quantidade de novos projetos para os próximos 2 anos.\n",
    "\n",
    "Em relação a geração media, o gráfico apresenta mais variabilidade. No entanto, como já visto, resultados antes de 2017 não são estatisticamente significantes pela baixa quantidade da amostra. A partir de 2017 é possível ver uma tendência de estabilidade. Será feita uma análise mais detalhada."
   ]
  },
  {
   "attachments": {},
   "cell_type": "markdown",
   "metadata": {},
   "source": [
    "### Análise da Quantidade de Novos Projetos\n",
    "\n",
    "O scatterplot acima mostra que a quantidade de projetos é aparentemente linear. Apesar da pequena quantidade dados, faz sentido linearizar os dados, visto que aparentemente eles tendem a uma reta. No entanto, ainda é bom analisar outras métricas para decidir se podemos aplicar a linearidade. São elas:\n",
    "\n",
    "- Normalidade: os erros devem ter uma distribuição aproximadamente normal\n",
    "- Homocedasticidade: a variabilidade dos erros é igual para todos os valores previstos"
   ]
  },
  {
   "cell_type": "code",
   "execution_count": 13,
   "metadata": {},
   "outputs": [
    {
     "name": "stderr",
     "output_type": "stream",
     "text": [
      "c:\\Users\\ediga\\AppData\\Local\\Programs\\Python\\Python310\\lib\\site-packages\\seaborn\\axisgrid.py:703: FutureWarning: iteritems is deprecated and will be removed in a future version. Use .items instead.\n",
      "  plot_args = [v for k, v in plot_data.iteritems()]\n"
     ]
    },
    {
     "data": {
      "image/png": "[encoded data removed]",
      "text/plain": [
       "<Figure size 288x288 with 1 Axes>"
      ]
     },
     "metadata": {
      "needs_background": "light"
     },
     "output_type": "display_data"
    }
   ],
   "source": [
    "# interpolando uma reta\n",
    "\n",
    "from sklearn.linear_model import LinearRegression\n",
    "\n",
    "usinas_qtd_par = usinas_qtd_par[usinas_qtd_par['Ano']>=2016]\n",
    "\n",
    "model = LinearRegression()\n",
    "model.fit(np.array(usinas_qtd_par['Ano']).reshape(-1, 1), usinas_qtd_par['QtdUsinas'])\n",
    "\n",
    "usinas_qtd_par['QtdUsinasPrev'] = model.predict(np.array(usinas_qtd_par['Ano']).reshape(-1, 1))\n",
    "\n",
    "g = sns.FacetGrid(usinas_qtd_par, height=4)\n",
    "g = g.map(plt.scatter, 'Ano', 'QtdUsinas', edgecolor=\"w\")\n",
    "plt.plot(usinas_qtd_par['Ano'], usinas_qtd_par['QtdUsinasPrev'], color='r')\n",
    "plt.show()"
   ]
  },
  {
   "cell_type": "code",
   "execution_count": 14,
   "metadata": {},
   "outputs": [
    {
     "name": "stderr",
     "output_type": "stream",
     "text": [
      "c:\\Users\\ediga\\AppData\\Local\\Programs\\Python\\Python310\\lib\\site-packages\\seaborn\\_decorators.py:36: FutureWarning: Pass the following variables as keyword args: x, y. From version 0.12, the only valid positional argument will be `data`, and passing other arguments without an explicit keyword will result in an error or misinterpretation.\n",
      "  warnings.warn(\n"
     ]
    },
    {
     "data": {
      "image/png": "[encoded data removed]",
      "text/plain": [
       "<Figure size 720x288 with 2 Axes>"
      ]
     },
     "metadata": {
      "needs_background": "light"
     },
     "output_type": "display_data"
    }
   ],
   "source": [
    "# analisando normalidade/homocedasticidade dos resíduos\n",
    "fig, ax = plt.subplots(1,2, figsize=(10,4))\n",
    "\n",
    "# plot de distribuicao dos erro\n",
    "usinas_qtd_par['Erro'] = usinas_qtd_par['QtdUsinasPrev'] - usinas_qtd_par['QtdUsinas']\n",
    "\n",
    "usinas_qtd_par['Erro'].plot(kind='kde', ax=ax[0])\n",
    "\n",
    "#plot de variabilidade do erro\n",
    "sns.scatterplot(usinas_qtd_par['QtdUsinasPrev'], usinas_qtd_par['Erro'], ax=ax[1])\n",
    "ax[1].plot(usinas_qtd_par['QtdUsinasPrev'], np.linspace(0, 0, 7), color='black')\n",
    "\n",
    "plt.show()"
   ]
  },
  {
   "attachments": {},
   "cell_type": "markdown",
   "metadata": {},
   "source": [
    "Como visto acima, é difícil analisar a distribuição do erro pela quantidade pequena de dados, de qualquer forma, pode-se aproximar o erro por uma normal, e os erros possuem uma variabilidade simétrica em relação ao eixo y. Logo, é viável utilizar regressão linear para prever o número de projetos novos.\n",
    "\n",
    "Assumindo que a base contemple projetos até maio de 2023, o objetivo se inicia no mês de junho de 2023 e vai até o final de maio de 2025. No entanto, como foi considerado um prazo de 3 meses para o período de negociação com as usinas, é preciso calcular os projetos novos até meados de abril de 2025, 1 a 2 meses antes da data final do objetivo, visto negociar com usinas muito perto do período final pode ultrapassar o prazo de 2 anos, nesse cenário ainda adicionando uma \"gordura\" de 1 a 2 meses após o prazo final. Com isso em mente, será calculado a quantidade de projetos previstos nesse período de maio-2023 a inicio de abril-2025."
   ]
  },
  {
   "cell_type": "code",
   "execution_count": 15,
   "metadata": {},
   "outputs": [
    {
     "name": "stdout",
     "output_type": "stream",
     "text": [
      "[414.17857143]\n"
     ]
    }
   ],
   "source": [
    "inicio_ano_1 = 2023+6/12              # inicio no começo de junho\n",
    "inicio_ano_2 = inicio_ano_1+1         # inicio do ano 2\n",
    "\n",
    "qtd_usinas_ano_1 = model.coef_ * inicio_ano_1 + model.intercept_\n",
    "qtd_usinas_ano_2 = model.coef_ * inicio_ano_2 + model.intercept_\n",
    "\n",
    "# multiplica-se por 11/12 visto que negociações a partir de maio-2025 já não forão parte da contabilidade do objetivo\n",
    "print(qtd_usinas_ano_1+qtd_usinas_ano_2*(11/12))"
   ]
  },
  {
   "attachments": {},
   "cell_type": "markdown",
   "metadata": {},
   "source": [
    "Como calculado, é previsto o surgimento de aproximadamente 414 novas usinas que se enquandram no modelo de negócio da Lemon nos próximos 2 anos. Para calcular o possível ganho de geração, precisamos também prever a geração média das usinas nos próximos 2 anos."
   ]
  },
  {
   "attachments": {},
   "cell_type": "markdown",
   "metadata": {},
   "source": [
    "### Análise da Capacidade de Geração de Novos Projetos"
   ]
  },
  {
   "attachments": {},
   "cell_type": "markdown",
   "metadata": {},
   "source": [
    "Como visto no gráfico de geração por ano, a capacidade de geração a cada ano é mais incerta, porém tende a se estabilizar a partir de 2017. Podemos então considerar a análise iniciando neste ano, e também encontrar possíveis outliers que podem estar enviesando a análise."
   ]
  },
  {
   "cell_type": "code",
   "execution_count": 16,
   "metadata": {},
   "outputs": [
    {
     "data": {
      "text/plain": [
       "<AxesSubplot:xlabel='GeracaoMWh', ylabel='Count'>"
      ]
     },
     "execution_count": 16,
     "metadata": {},
     "output_type": "execute_result"
    },
    {
     "data": {
      "image/png": "[encoded data removed]",
      "text/plain": [
       "<Figure size 1080x216 with 2 Axes>"
      ]
     },
     "metadata": {
      "needs_background": "light"
     },
     "output_type": "display_data"
    }
   ],
   "source": [
    "# seleciona projetos a partir de 2017 e analisa se há outliers em cada ano\n",
    "usinas_tot_par_2017 = usinas_tot_par[usinas_tot_par['Ano'] >= 2017]\n",
    "\n",
    "fig, ax = plt.subplots(1,2, figsize=(15,3))\n",
    "\n",
    "sns.boxplot(x='Ano', y='GeracaoMWh', data=usinas_tot_par_2017,ax=ax[0])\n",
    "sns.histplot(x='GeracaoMWh', data=usinas_tot_par_2017, bins=15,ax=ax[1])"
   ]
  },
  {
   "attachments": {},
   "cell_type": "markdown",
   "metadata": {},
   "source": [
    "Como mostrado no boxplot, os dados aparentemente estão enviesados para cima, ou seja, alguns projetos muito grandes, com alta geração, se descolam da mediana. A distribuição, que conta com todos os projetos de 2017 adiante, também mostra um viés muito grande para os valores maiores.\n",
    "\n",
    "Vamos ver uma distribuição por ano:"
   ]
  },
  {
   "cell_type": "code",
   "execution_count": 17,
   "metadata": {},
   "outputs": [
    {
     "data": {
      "image/png": "[encoded data removed]",
      "text/plain": [
       "<Figure size 1440x360 with 6 Axes>"
      ]
     },
     "metadata": {
      "needs_background": "light"
     },
     "output_type": "display_data"
    }
   ],
   "source": [
    "fig, ax = plt.subplots(1,6, figsize=(20,5))\n",
    "\n",
    "for i,j in enumerate(range(2017,2023,1)):\n",
    "    sns.histplot(x='GeracaoMWh', data=usinas_tot_par_2017[usinas_tot_par_2017['Ano']==j], bins=15,ax=ax[i])\n",
    "    ax[i].set_title(j)"
   ]
  },
  {
   "attachments": {},
   "cell_type": "markdown",
   "metadata": {},
   "source": [
    "Todos os anos possuem valores enviesados para a direita. Aparentemente, eles seguem uma distribuição lognormal, podemos checar essa hipótese e calcular a média de uma distribuição lognormal. No entanto, podemos também considerar a mediana como uma medida de tendência central, por dar menos peso aos outliers.\n",
    "\n",
    "Usando a mediana como métrica, pode-se extrair a mediana de geração a cada ano, e analisar a distribuição dos dados para checar se é possível aplicar regressão para prever o valor central de tendência de geração nos próximos 2 anos."
   ]
  },
  {
   "cell_type": "code",
   "execution_count": 18,
   "metadata": {},
   "outputs": [
    {
     "data": {
      "text/plain": [
       "<AxesSubplot:xlabel='Ano', ylabel='GeracaoMWhMedian'>"
      ]
     },
     "execution_count": 18,
     "metadata": {},
     "output_type": "execute_result"
    },
    {
     "data": {
      "image/png": "[encoded data removed]",
      "text/plain": [
       "<Figure size 432x288 with 1 Axes>"
      ]
     },
     "metadata": {
      "needs_background": "light"
     },
     "output_type": "display_data"
    }
   ],
   "source": [
    "usinas_ger_par_median = usinas_tot_par_2017.groupby(['Ano'])['GeracaoMWh'].median().reset_index(name='GeracaoMWhMedian')\n",
    "sns.scatterplot(y='GeracaoMWhMedian', x='Ano', data=usinas_ger_par_median)"
   ]
  },
  {
   "attachments": {},
   "cell_type": "markdown",
   "metadata": {},
   "source": [
    "Percebe-se que a mediana possui uma tendência muito mais constante, sendo 2017 o único ano outlier. Neste caso em específico, nota-se que a geração mediana dos projetos assume o mesmo valor nos últimos 2,5 anos, já incluindo os projetos de 2023. Apesar de já termos calculado uma geração média de 190MWh/mês em 2023, excluindo alguns outliers, podemos também extrair o valor exato da mediana em 2021, 2022 e 2023 e verificar se são realmente próximos."
   ]
  },
  {
   "cell_type": "code",
   "execution_count": 19,
   "metadata": {},
   "outputs": [
    {
     "data": {
      "text/html": [
       "<div>\n",
       "<style scoped>\n",
       "    .dataframe tbody tr th:only-of-type {\n",
       "        vertical-align: middle;\n",
       "    }\n",
       "\n",
       "    .dataframe tbody tr th {\n",
       "        vertical-align: top;\n",
       "    }\n",
       "\n",
       "    .dataframe thead th {\n",
       "        text-align: right;\n",
       "    }\n",
       "</style>\n",
       "<table border=\"1\" class=\"dataframe\">\n",
       "  <thead>\n",
       "    <tr style=\"text-align: right;\">\n",
       "      <th></th>\n",
       "      <th>Ano</th>\n",
       "      <th>GeracaoMWhMedian</th>\n",
       "    </tr>\n",
       "  </thead>\n",
       "  <tbody>\n",
       "    <tr>\n",
       "      <th>0</th>\n",
       "      <td>2017</td>\n",
       "      <td>318.00</td>\n",
       "    </tr>\n",
       "    <tr>\n",
       "      <th>1</th>\n",
       "      <td>2018</td>\n",
       "      <td>192.96</td>\n",
       "    </tr>\n",
       "    <tr>\n",
       "      <th>2</th>\n",
       "      <td>2019</td>\n",
       "      <td>201.00</td>\n",
       "    </tr>\n",
       "    <tr>\n",
       "      <th>3</th>\n",
       "      <td>2020</td>\n",
       "      <td>192.96</td>\n",
       "    </tr>\n",
       "    <tr>\n",
       "      <th>4</th>\n",
       "      <td>2021</td>\n",
       "      <td>201.00</td>\n",
       "    </tr>\n",
       "    <tr>\n",
       "      <th>5</th>\n",
       "      <td>2022</td>\n",
       "      <td>201.00</td>\n",
       "    </tr>\n",
       "    <tr>\n",
       "      <th>6</th>\n",
       "      <td>2023</td>\n",
       "      <td>201.00</td>\n",
       "    </tr>\n",
       "  </tbody>\n",
       "</table>\n",
       "</div>"
      ],
      "text/plain": [
       "    Ano  GeracaoMWhMedian\n",
       "0  2017            318.00\n",
       "1  2018            192.96\n",
       "2  2019            201.00\n",
       "3  2020            192.96\n",
       "4  2021            201.00\n",
       "5  2022            201.00\n",
       "6  2023            201.00"
      ]
     },
     "execution_count": 19,
     "metadata": {},
     "output_type": "execute_result"
    }
   ],
   "source": [
    "usinas_ger_par_median"
   ]
  },
  {
   "attachments": {},
   "cell_type": "markdown",
   "metadata": {},
   "source": [
    "O valor da mediana em 2023 é um pouco maior que o valor de geração utilizado como métrica dos projetos recentes, de 190MWh/mês, calculado pela média excluindo alguns valores de geração muito acima. No entanto, o valor da media calculado pode ser visto como uma correção para um cenário mais conservador. Poderiamos também utilizar o valor da mediana no caso dos projetos recentes, e vice versa. Como os valores não estão muito distantes um do outro, ambos são aceitáveis para o cálculo. Também podemos considerar que o aumento da tecnologia nas fontes de geração, com placas solares mais eficientes (fonte: [CleanEnergyReviews](https://www.cleanenergyreviews.info/blog/most-efficient-solar-panels#:~:text=Due%20to%20the%20many%20advances,from%20250W%20to%20over%20400W)), por exemplo, pode acarretar um acréscimo de energia nos próximos anos.\n",
    "\n",
    "Como visto, podemos utilizar o valor de 201MWh/mês como premissa de geração para cada projeto nos próximos 2 anos.\n",
    "Com isso, visto que são previstas 414 novas usinas que se enquadram no negócio da Lemon, é possível calcular o possível ganho de geração da Lemon, utilizando a taxa de conversão de 6.4%.\n",
    "\n",
    "Isso significa que a Lemon pode esperar adicionar 27 novas usinas ao seu portfolio (391×6.4%), com um ganho de 5.43GWh/mês (27×201). Somando isso aos já calculados 0.38GWh/mês, **é possível afirmar que, se a Lemon se manter dentro da área de atuação, pode esperar um aumento de 5.81GWh/mês, ou 83% da sua meta**.\n",
    "\n",
    "Alcançar a meta atuando apenas com as distribuidoras parceiras, no entanto, não é impossível. As premissas de geração utilizadas, tanto no caso da média excluindo outliers, como no caso da mediana, pode ser vista como mais conservadoras, visto que há projetos com capacidade muito maior que, se adicionados ao portfolio Lemon, podem ajudar a alcançar o objetivo.\n",
    "Logo, a Lemon pode aumentar a sua taxa de sucesso, convertendo mais usinas ao seu portfólio, ou focar em usinas com maior capacidade de geração, e conseguir atinger seu objetivo. Por exemplo, caso a Lemon consiga fechar parceria com 27 usinas de geração média de 250MWh/mês, somando aos 380MWh/mês do início de 2023, o objetivo seria atingido, com 7.13GWh/mês.\n",
    "\n",
    "No entanto, isso seria um cenárip, e em um cenário mais pessimista, o ganho de geração pode ficar muito mais abaixo do calculado. Por isso, também vamos analisar um projeto de expansão, fechando parcerias com novas usinas.\n",
    "\n",
    "---"
   ]
  },
  {
   "attachments": {},
   "cell_type": "markdown",
   "metadata": {},
   "source": [
    "## Encontrando as melhores regiões para expandir\n",
    "\n",
    "Quais distribuidoras possuem maior número de projetos? Existe tendência de aumento? A média de geração nos projetos conectados a distribuidora é relevante?\n",
    "Dado o curto prazo, no cenário de expansão é preciso ser assertivo, não sobrecarregar a equipe de negociação e fechar parceria com o mínimo distribuidoras necessárias, e que tenham o melhor benefício ao negócio."
   ]
  },
  {
   "cell_type": "code",
   "execution_count": 20,
   "metadata": {},
   "outputs": [
    {
     "data": {
      "text/plain": [
       "<matplotlib.legend.Legend at 0x12d9c3efdc0>"
      ]
     },
     "execution_count": 20,
     "metadata": {},
     "output_type": "execute_result"
    },
    {
     "data": {
      "image/png": "[encoded data removed]",
      "text/plain": [
       "<Figure size 432x432 with 1 Axes>"
      ]
     },
     "metadata": {
      "needs_background": "light"
     },
     "output_type": "display_data"
    }
   ],
   "source": [
    "# seleciona apenas distribuidoras não-parceiras, cria uma coluna com o ano\n",
    "# exclui 2023, sera usado em outra análise separada, pois o ano ainda está incompleto\n",
    "\n",
    "usinas_npar = usinas_tot[usinas_tot['DistParceira']==0]\n",
    "usinas_npar['Ano'] = usinas_npar['DthAtualizaCadastralEmpreend'].dt.year\n",
    "\n",
    "usinas_npar_dist = usinas_npar.groupby(['Ano','SigAgente', 'SigUF'])['SigAgente'].count().reset_index(name='QtdUsinas')\n",
    "\n",
    "plt.figure(figsize=(6,6))\n",
    "sns.lineplot(x='Ano', y='QtdUsinas', hue='SigAgente', data=usinas_npar_dist)\n",
    "\n",
    "plt.legend(loc='center left', bbox_to_anchor=(1, 0.5))"
   ]
  },
  {
   "attachments": {},
   "cell_type": "markdown",
   "metadata": {},
   "source": [
    "Como mostrado, são diversas distribuidoras e, para facilitar a análise, um método é eliminar distribuidoras com menor número de novos projetos, e sem tendência de crescimento. Para isso, pode-se criar uma tabela para facilitar a visualização."
   ]
  },
  {
   "cell_type": "code",
   "execution_count": 21,
   "metadata": {},
   "outputs": [
    {
     "data": {
      "text/html": [
       "<div>\n",
       "<style scoped>\n",
       "    .dataframe tbody tr th:only-of-type {\n",
       "        vertical-align: middle;\n",
       "    }\n",
       "\n",
       "    .dataframe tbody tr th {\n",
       "        vertical-align: top;\n",
       "    }\n",
       "\n",
       "    .dataframe thead th {\n",
       "        text-align: right;\n",
       "    }\n",
       "</style>\n",
       "<table border=\"1\" class=\"dataframe\">\n",
       "  <thead>\n",
       "    <tr style=\"text-align: right;\">\n",
       "      <th></th>\n",
       "      <th>Ano</th>\n",
       "      <th>2016</th>\n",
       "      <th>2017</th>\n",
       "      <th>2018</th>\n",
       "      <th>2019</th>\n",
       "      <th>2020</th>\n",
       "      <th>2021</th>\n",
       "      <th>2022</th>\n",
       "      <th>2023</th>\n",
       "      <th>Total</th>\n",
       "    </tr>\n",
       "    <tr>\n",
       "      <th>SigAgente</th>\n",
       "      <th>SigUF</th>\n",
       "      <th></th>\n",
       "      <th></th>\n",
       "      <th></th>\n",
       "      <th></th>\n",
       "      <th></th>\n",
       "      <th></th>\n",
       "      <th></th>\n",
       "      <th></th>\n",
       "      <th></th>\n",
       "    </tr>\n",
       "  </thead>\n",
       "  <tbody>\n",
       "    <tr>\n",
       "      <th>EMT</th>\n",
       "      <th>MT</th>\n",
       "      <td>NaN</td>\n",
       "      <td>NaN</td>\n",
       "      <td>1.0</td>\n",
       "      <td>10.0</td>\n",
       "      <td>21.0</td>\n",
       "      <td>19.0</td>\n",
       "      <td>62.0</td>\n",
       "      <td>32.0</td>\n",
       "      <td>145.0</td>\n",
       "    </tr>\n",
       "    <tr>\n",
       "      <th>EMS</th>\n",
       "      <th>MS</th>\n",
       "      <td>NaN</td>\n",
       "      <td>NaN</td>\n",
       "      <td>11.0</td>\n",
       "      <td>8.0</td>\n",
       "      <td>2.0</td>\n",
       "      <td>7.0</td>\n",
       "      <td>31.0</td>\n",
       "      <td>10.0</td>\n",
       "      <td>69.0</td>\n",
       "    </tr>\n",
       "    <tr>\n",
       "      <th>ENEL CE</th>\n",
       "      <th>CE</th>\n",
       "      <td>2.0</td>\n",
       "      <td>3.0</td>\n",
       "      <td>2.0</td>\n",
       "      <td>3.0</td>\n",
       "      <td>12.0</td>\n",
       "      <td>6.0</td>\n",
       "      <td>4.0</td>\n",
       "      <td>9.0</td>\n",
       "      <td>41.0</td>\n",
       "    </tr>\n",
       "    <tr>\n",
       "      <th>Equatorial MA</th>\n",
       "      <th>MA</th>\n",
       "      <td>NaN</td>\n",
       "      <td>NaN</td>\n",
       "      <td>NaN</td>\n",
       "      <td>1.0</td>\n",
       "      <td>9.0</td>\n",
       "      <td>8.0</td>\n",
       "      <td>12.0</td>\n",
       "      <td>5.0</td>\n",
       "      <td>35.0</td>\n",
       "    </tr>\n",
       "    <tr>\n",
       "      <th>EDP ES</th>\n",
       "      <th>ES</th>\n",
       "      <td>NaN</td>\n",
       "      <td>NaN</td>\n",
       "      <td>NaN</td>\n",
       "      <td>1.0</td>\n",
       "      <td>4.0</td>\n",
       "      <td>NaN</td>\n",
       "      <td>9.0</td>\n",
       "      <td>3.0</td>\n",
       "      <td>17.0</td>\n",
       "    </tr>\n",
       "    <tr>\n",
       "      <th>ESS</th>\n",
       "      <th>SP</th>\n",
       "      <td>NaN</td>\n",
       "      <td>NaN</td>\n",
       "      <td>NaN</td>\n",
       "      <td>1.0</td>\n",
       "      <td>NaN</td>\n",
       "      <td>2.0</td>\n",
       "      <td>5.0</td>\n",
       "      <td>3.0</td>\n",
       "      <td>11.0</td>\n",
       "    </tr>\n",
       "    <tr>\n",
       "      <th>RGE SUL</th>\n",
       "      <th>RS</th>\n",
       "      <td>NaN</td>\n",
       "      <td>NaN</td>\n",
       "      <td>NaN</td>\n",
       "      <td>5.0</td>\n",
       "      <td>6.0</td>\n",
       "      <td>10.0</td>\n",
       "      <td>27.0</td>\n",
       "      <td>3.0</td>\n",
       "      <td>51.0</td>\n",
       "    </tr>\n",
       "    <tr>\n",
       "      <th>COPEL-DIS</th>\n",
       "      <th>PR</th>\n",
       "      <td>NaN</td>\n",
       "      <td>NaN</td>\n",
       "      <td>1.0</td>\n",
       "      <td>NaN</td>\n",
       "      <td>8.0</td>\n",
       "      <td>15.0</td>\n",
       "      <td>12.0</td>\n",
       "      <td>2.0</td>\n",
       "      <td>38.0</td>\n",
       "    </tr>\n",
       "    <tr>\n",
       "      <th>CPFL- PIRATININGA</th>\n",
       "      <th>SP</th>\n",
       "      <td>NaN</td>\n",
       "      <td>NaN</td>\n",
       "      <td>NaN</td>\n",
       "      <td>1.0</td>\n",
       "      <td>5.0</td>\n",
       "      <td>NaN</td>\n",
       "      <td>7.0</td>\n",
       "      <td>1.0</td>\n",
       "      <td>14.0</td>\n",
       "    </tr>\n",
       "    <tr>\n",
       "      <th>ELETROCAR</th>\n",
       "      <th>RS</th>\n",
       "      <td>NaN</td>\n",
       "      <td>NaN</td>\n",
       "      <td>NaN</td>\n",
       "      <td>NaN</td>\n",
       "      <td>NaN</td>\n",
       "      <td>NaN</td>\n",
       "      <td>NaN</td>\n",
       "      <td>1.0</td>\n",
       "      <td>1.0</td>\n",
       "    </tr>\n",
       "    <tr>\n",
       "      <th>ENEL RJ</th>\n",
       "      <th>RJ</th>\n",
       "      <td>NaN</td>\n",
       "      <td>NaN</td>\n",
       "      <td>NaN</td>\n",
       "      <td>1.0</td>\n",
       "      <td>2.0</td>\n",
       "      <td>5.0</td>\n",
       "      <td>1.0</td>\n",
       "      <td>1.0</td>\n",
       "      <td>10.0</td>\n",
       "    </tr>\n",
       "    <tr>\n",
       "      <th>ESE</th>\n",
       "      <th>SE</th>\n",
       "      <td>NaN</td>\n",
       "      <td>NaN</td>\n",
       "      <td>NaN</td>\n",
       "      <td>NaN</td>\n",
       "      <td>1.0</td>\n",
       "      <td>2.0</td>\n",
       "      <td>3.0</td>\n",
       "      <td>1.0</td>\n",
       "      <td>7.0</td>\n",
       "    </tr>\n",
       "    <tr>\n",
       "      <th>Equatorial PI</th>\n",
       "      <th>PI</th>\n",
       "      <td>NaN</td>\n",
       "      <td>NaN</td>\n",
       "      <td>NaN</td>\n",
       "      <td>3.0</td>\n",
       "      <td>3.0</td>\n",
       "      <td>8.0</td>\n",
       "      <td>5.0</td>\n",
       "      <td>1.0</td>\n",
       "      <td>20.0</td>\n",
       "    </tr>\n",
       "    <tr>\n",
       "      <th>CEEE-D</th>\n",
       "      <th>RS</th>\n",
       "      <td>NaN</td>\n",
       "      <td>NaN</td>\n",
       "      <td>NaN</td>\n",
       "      <td>1.0</td>\n",
       "      <td>NaN</td>\n",
       "      <td>3.0</td>\n",
       "      <td>1.0</td>\n",
       "      <td>NaN</td>\n",
       "      <td>5.0</td>\n",
       "    </tr>\n",
       "    <tr>\n",
       "      <th>CELESC-DIS</th>\n",
       "      <th>SC</th>\n",
       "      <td>NaN</td>\n",
       "      <td>NaN</td>\n",
       "      <td>NaN</td>\n",
       "      <td>3.0</td>\n",
       "      <td>1.0</td>\n",
       "      <td>4.0</td>\n",
       "      <td>170.0</td>\n",
       "      <td>NaN</td>\n",
       "      <td>178.0</td>\n",
       "    </tr>\n",
       "    <tr>\n",
       "      <th>CEMIRIM</th>\n",
       "      <th>SP</th>\n",
       "      <td>NaN</td>\n",
       "      <td>NaN</td>\n",
       "      <td>NaN</td>\n",
       "      <td>NaN</td>\n",
       "      <td>NaN</td>\n",
       "      <td>NaN</td>\n",
       "      <td>1.0</td>\n",
       "      <td>NaN</td>\n",
       "      <td>1.0</td>\n",
       "    </tr>\n",
       "    <tr>\n",
       "      <th>COELBA</th>\n",
       "      <th>BA</th>\n",
       "      <td>NaN</td>\n",
       "      <td>NaN</td>\n",
       "      <td>1.0</td>\n",
       "      <td>NaN</td>\n",
       "      <td>3.0</td>\n",
       "      <td>NaN</td>\n",
       "      <td>3.0</td>\n",
       "      <td>NaN</td>\n",
       "      <td>7.0</td>\n",
       "    </tr>\n",
       "    <tr>\n",
       "      <th>COPREL</th>\n",
       "      <th>RS</th>\n",
       "      <td>NaN</td>\n",
       "      <td>NaN</td>\n",
       "      <td>NaN</td>\n",
       "      <td>NaN</td>\n",
       "      <td>NaN</td>\n",
       "      <td>NaN</td>\n",
       "      <td>1.0</td>\n",
       "      <td>NaN</td>\n",
       "      <td>1.0</td>\n",
       "    </tr>\n",
       "    <tr>\n",
       "      <th>COSERN</th>\n",
       "      <th>RN</th>\n",
       "      <td>NaN</td>\n",
       "      <td>NaN</td>\n",
       "      <td>NaN</td>\n",
       "      <td>1.0</td>\n",
       "      <td>2.0</td>\n",
       "      <td>6.0</td>\n",
       "      <td>1.0</td>\n",
       "      <td>NaN</td>\n",
       "      <td>10.0</td>\n",
       "    </tr>\n",
       "    <tr>\n",
       "      <th>CPFL Jaguari</th>\n",
       "      <th>SP</th>\n",
       "      <td>NaN</td>\n",
       "      <td>NaN</td>\n",
       "      <td>NaN</td>\n",
       "      <td>1.0</td>\n",
       "      <td>NaN</td>\n",
       "      <td>NaN</td>\n",
       "      <td>1.0</td>\n",
       "      <td>NaN</td>\n",
       "      <td>2.0</td>\n",
       "    </tr>\n",
       "    <tr>\n",
       "      <th>EBO</th>\n",
       "      <th>PB</th>\n",
       "      <td>NaN</td>\n",
       "      <td>NaN</td>\n",
       "      <td>NaN</td>\n",
       "      <td>NaN</td>\n",
       "      <td>NaN</td>\n",
       "      <td>2.0</td>\n",
       "      <td>1.0</td>\n",
       "      <td>NaN</td>\n",
       "      <td>3.0</td>\n",
       "    </tr>\n",
       "    <tr>\n",
       "      <th>EDP SP</th>\n",
       "      <th>SP</th>\n",
       "      <td>NaN</td>\n",
       "      <td>NaN</td>\n",
       "      <td>1.0</td>\n",
       "      <td>3.0</td>\n",
       "      <td>7.0</td>\n",
       "      <td>1.0</td>\n",
       "      <td>2.0</td>\n",
       "      <td>NaN</td>\n",
       "      <td>14.0</td>\n",
       "    </tr>\n",
       "    <tr>\n",
       "      <th>ELETROPAULO</th>\n",
       "      <th>SP</th>\n",
       "      <td>NaN</td>\n",
       "      <td>NaN</td>\n",
       "      <td>NaN</td>\n",
       "      <td>1.0</td>\n",
       "      <td>NaN</td>\n",
       "      <td>3.0</td>\n",
       "      <td>NaN</td>\n",
       "      <td>NaN</td>\n",
       "      <td>4.0</td>\n",
       "    </tr>\n",
       "    <tr>\n",
       "      <th>EMG</th>\n",
       "      <th>MG</th>\n",
       "      <td>NaN</td>\n",
       "      <td>NaN</td>\n",
       "      <td>NaN</td>\n",
       "      <td>NaN</td>\n",
       "      <td>NaN</td>\n",
       "      <td>3.0</td>\n",
       "      <td>NaN</td>\n",
       "      <td>NaN</td>\n",
       "      <td>3.0</td>\n",
       "    </tr>\n",
       "    <tr>\n",
       "      <th>EPB</th>\n",
       "      <th>PB</th>\n",
       "      <td>NaN</td>\n",
       "      <td>NaN</td>\n",
       "      <td>NaN</td>\n",
       "      <td>NaN</td>\n",
       "      <td>4.0</td>\n",
       "      <td>1.0</td>\n",
       "      <td>5.0</td>\n",
       "      <td>NaN</td>\n",
       "      <td>10.0</td>\n",
       "    </tr>\n",
       "    <tr>\n",
       "      <th rowspan=\"2\" valign=\"top\">ESS</th>\n",
       "      <th>MG</th>\n",
       "      <td>NaN</td>\n",
       "      <td>NaN</td>\n",
       "      <td>NaN</td>\n",
       "      <td>NaN</td>\n",
       "      <td>NaN</td>\n",
       "      <td>NaN</td>\n",
       "      <td>5.0</td>\n",
       "      <td>NaN</td>\n",
       "      <td>5.0</td>\n",
       "    </tr>\n",
       "    <tr>\n",
       "      <th>PR</th>\n",
       "      <td>NaN</td>\n",
       "      <td>NaN</td>\n",
       "      <td>NaN</td>\n",
       "      <td>NaN</td>\n",
       "      <td>NaN</td>\n",
       "      <td>NaN</td>\n",
       "      <td>1.0</td>\n",
       "      <td>NaN</td>\n",
       "      <td>1.0</td>\n",
       "    </tr>\n",
       "    <tr>\n",
       "      <th>Equatorial AL</th>\n",
       "      <th>AL</th>\n",
       "      <td>NaN</td>\n",
       "      <td>NaN</td>\n",
       "      <td>NaN</td>\n",
       "      <td>NaN</td>\n",
       "      <td>2.0</td>\n",
       "      <td>NaN</td>\n",
       "      <td>2.0</td>\n",
       "      <td>NaN</td>\n",
       "      <td>4.0</td>\n",
       "    </tr>\n",
       "  </tbody>\n",
       "</table>\n",
       "</div>"
      ],
      "text/plain": [
       "Ano                      2016  2017  2018  2019  2020  2021   2022  2023  \\\n",
       "SigAgente         SigUF                                                    \n",
       "EMT               MT      NaN   NaN   1.0  10.0  21.0  19.0   62.0  32.0   \n",
       "EMS               MS      NaN   NaN  11.0   8.0   2.0   7.0   31.0  10.0   \n",
       "ENEL CE           CE      2.0   3.0   2.0   3.0  12.0   6.0    4.0   9.0   \n",
       "Equatorial MA     MA      NaN   NaN   NaN   1.0   9.0   8.0   12.0   5.0   \n",
       "EDP ES            ES      NaN   NaN   NaN   1.0   4.0   NaN    9.0   3.0   \n",
       "ESS               SP      NaN   NaN   NaN   1.0   NaN   2.0    5.0   3.0   \n",
       "RGE SUL           RS      NaN   NaN   NaN   5.0   6.0  10.0   27.0   3.0   \n",
       "COPEL-DIS         PR      NaN   NaN   1.0   NaN   8.0  15.0   12.0   2.0   \n",
       "CPFL- PIRATININGA SP      NaN   NaN   NaN   1.0   5.0   NaN    7.0   1.0   \n",
       "ELETROCAR         RS      NaN   NaN   NaN   NaN   NaN   NaN    NaN   1.0   \n",
       "ENEL RJ           RJ      NaN   NaN   NaN   1.0   2.0   5.0    1.0   1.0   \n",
       "ESE               SE      NaN   NaN   NaN   NaN   1.0   2.0    3.0   1.0   \n",
       "Equatorial PI     PI      NaN   NaN   NaN   3.0   3.0   8.0    5.0   1.0   \n",
       "CEEE-D            RS      NaN   NaN   NaN   1.0   NaN   3.0    1.0   NaN   \n",
       "CELESC-DIS        SC      NaN   NaN   NaN   3.0   1.0   4.0  170.0   NaN   \n",
       "CEMIRIM           SP      NaN   NaN   NaN   NaN   NaN   NaN    1.0   NaN   \n",
       "COELBA            BA      NaN   NaN   1.0   NaN   3.0   NaN    3.0   NaN   \n",
       "COPREL            RS      NaN   NaN   NaN   NaN   NaN   NaN    1.0   NaN   \n",
       "COSERN            RN      NaN   NaN   NaN   1.0   2.0   6.0    1.0   NaN   \n",
       "CPFL Jaguari      SP      NaN   NaN   NaN   1.0   NaN   NaN    1.0   NaN   \n",
       "EBO               PB      NaN   NaN   NaN   NaN   NaN   2.0    1.0   NaN   \n",
       "EDP SP            SP      NaN   NaN   1.0   3.0   7.0   1.0    2.0   NaN   \n",
       "ELETROPAULO       SP      NaN   NaN   NaN   1.0   NaN   3.0    NaN   NaN   \n",
       "EMG               MG      NaN   NaN   NaN   NaN   NaN   3.0    NaN   NaN   \n",
       "EPB               PB      NaN   NaN   NaN   NaN   4.0   1.0    5.0   NaN   \n",
       "ESS               MG      NaN   NaN   NaN   NaN   NaN   NaN    5.0   NaN   \n",
       "                  PR      NaN   NaN   NaN   NaN   NaN   NaN    1.0   NaN   \n",
       "Equatorial AL     AL      NaN   NaN   NaN   NaN   2.0   NaN    2.0   NaN   \n",
       "\n",
       "Ano                      Total  \n",
       "SigAgente         SigUF         \n",
       "EMT               MT     145.0  \n",
       "EMS               MS      69.0  \n",
       "ENEL CE           CE      41.0  \n",
       "Equatorial MA     MA      35.0  \n",
       "EDP ES            ES      17.0  \n",
       "ESS               SP      11.0  \n",
       "RGE SUL           RS      51.0  \n",
       "COPEL-DIS         PR      38.0  \n",
       "CPFL- PIRATININGA SP      14.0  \n",
       "ELETROCAR         RS       1.0  \n",
       "ENEL RJ           RJ      10.0  \n",
       "ESE               SE       7.0  \n",
       "Equatorial PI     PI      20.0  \n",
       "CEEE-D            RS       5.0  \n",
       "CELESC-DIS        SC     178.0  \n",
       "CEMIRIM           SP       1.0  \n",
       "COELBA            BA       7.0  \n",
       "COPREL            RS       1.0  \n",
       "COSERN            RN      10.0  \n",
       "CPFL Jaguari      SP       2.0  \n",
       "EBO               PB       3.0  \n",
       "EDP SP            SP      14.0  \n",
       "ELETROPAULO       SP       4.0  \n",
       "EMG               MG       3.0  \n",
       "EPB               PB      10.0  \n",
       "ESS               MG       5.0  \n",
       "                  PR       1.0  \n",
       "Equatorial AL     AL       4.0  "
      ]
     },
     "execution_count": 21,
     "metadata": {},
     "output_type": "execute_result"
    }
   ],
   "source": [
    "usinas_npar_dist_ano = usinas_npar_dist.pivot_table('QtdUsinas', ['SigAgente', 'SigUF'], 'Ano')\n",
    "usinas_npar_dist_ano['Total'] = usinas_npar_dist_ano.sum(axis=1)\n",
    "usinas_npar_dist_ano.sort_values(by=2023, ascending=False)"
   ]
  },
  {
   "attachments": {},
   "cell_type": "markdown",
   "metadata": {},
   "source": [
    "Com base no número de projetos, tendência de crescimento e tempo em operação, a distribuidora com maior número de projetos é a CELESC-DIS. No entanto, há um crescimento extremamente atípico em 2022, com 170 usinas e em 2023 não há nenhum projeto, e poucos anteriormente, sem consistência nos números. É preciso analisar e entender o motivo.\n",
    "\n",
    "As distribuidoras com consistência, e bons números de projeto selecionadas são: EMT(MT), EMS(MS), RGE SUL(RS), ENEL CE(CE), e Equatorial MA(MA). São diferentes estados e regiões, 2 no Centro-Oeste, 1 no Sul e 2 no Nordeste. Agora, é necessário entender a capacidade de geração dos projetos conectados em cada player."
   ]
  },
  {
   "cell_type": "code",
   "execution_count": 22,
   "metadata": {},
   "outputs": [
    {
     "data": {
      "text/plain": [
       "<AxesSubplot:xlabel='Ano', ylabel='GeracaoMWhMedian'>"
      ]
     },
     "execution_count": 22,
     "metadata": {},
     "output_type": "execute_result"
    },
    {
     "data": {
      "image/png": "[encoded data removed]",
      "text/plain": [
       "<Figure size 720x360 with 2 Axes>"
      ]
     },
     "metadata": {
      "needs_background": "light"
     },
     "output_type": "display_data"
    }
   ],
   "source": [
    "usinas_npar_dist_sel = usinas_npar[\n",
    "    usinas_npar['SigAgente'].isin(['EMT', 'EMS', 'RGE SUL', 'ENEL CE', 'Equatorial MA']) & (usinas_npar['Ano']>2016)]\n",
    "\n",
    "usinas_npar_dist_sel_ger_med = usinas_npar_dist_sel.groupby(\n",
    "    ['Ano', 'SigAgente'])['GeracaoMWh'].mean().reset_index(name='GeracaoMWhMed')\n",
    "usinas_npar_dist_sel_ger_median = usinas_npar_dist_sel.groupby(\n",
    "    ['Ano', 'SigAgente'])['GeracaoMWh'].median().reset_index(name='GeracaoMWhMedian')\n",
    "\n",
    "fig, ax = plt.subplots(1,2, figsize=(10,5), sharey=True)\n",
    "\n",
    "sns.lineplot(x='Ano', y='GeracaoMWhMed', hue='SigAgente', data=usinas_npar_dist_sel_ger_med, ax=ax[0])\n",
    "sns.lineplot(x='Ano', y='GeracaoMWhMedian', hue='SigAgente', data=usinas_npar_dist_sel_ger_median, ax=ax[1])"
   ]
  },
  {
   "cell_type": "code",
   "execution_count": 23,
   "metadata": {},
   "outputs": [
    {
     "data": {
      "text/plain": [
       "<AxesSubplot:xlabel='Ano', ylabel='GeracaoMWh'>"
      ]
     },
     "execution_count": 23,
     "metadata": {},
     "output_type": "execute_result"
    },
    {
     "data": {
      "image/png": "[encoded data removed]",
      "text/plain": [
       "<Figure size 720x360 with 1 Axes>"
      ]
     },
     "metadata": {
      "needs_background": "light"
     },
     "output_type": "display_data"
    }
   ],
   "source": [
    "plt.figure(figsize=(10,5))\n",
    "sns.boxplot(x='Ano', y='GeracaoMWh', hue='SigAgente', data=usinas_npar_dist_sel)"
   ]
  },
  {
   "attachments": {},
   "cell_type": "markdown",
   "metadata": {},
   "source": [
    "Percebe-se que, como já visto, os dados são muito diversos, com projetos de geração muito acima se destacando. Nesse caso, com um grande número de outliers, pode-se utilizar a mediana novamente como uma medida de tendência central. Como mostrado no lineplot acima, a geração mediana é muito mais constante que a geração média, visto que ambas estão na mesma escala no eixo y.\n",
    "\n",
    "Todas as distribuidoras selecionadas tem usinas conectadas com valores de geração similares. Nesse caso, não há necessidade de eliminar as distribuidoras com menor geração.\n",
    "\n",
    "Para ter uma previsão de geração nos próximos anos, será necessário novamente fazer uma análise preditiva do número de usinas em cada distribuidora, e a geração esperada."
   ]
  },
  {
   "attachments": {},
   "cell_type": "markdown",
   "metadata": {},
   "source": [
    "### Previsão de novos projetos nas distribuidoras selecionadas"
   ]
  },
  {
   "cell_type": "code",
   "execution_count": 24,
   "metadata": {},
   "outputs": [
    {
     "data": {
      "text/plain": [
       "<AxesSubplot:xlabel='Ano', ylabel='QtdUsinas'>"
      ]
     },
     "execution_count": 24,
     "metadata": {},
     "output_type": "execute_result"
    },
    {
     "data": {
      "image/png": "[encoded data removed]",
      "text/plain": [
       "<Figure size 432x288 with 1 Axes>"
      ]
     },
     "metadata": {
      "needs_background": "light"
     },
     "output_type": "display_data"
    }
   ],
   "source": [
    "usinas_npar_dist = usinas_npar_dist[\n",
    "    usinas_npar_dist['SigAgente'].isin(['EMT', 'EMS', 'RGE SUL', 'ENEL CE', 'Equatorial MA']) \n",
    "    & (usinas_npar_dist['Ano']!=2023)]\n",
    "sns.lineplot(data=usinas_npar_dist, x='Ano', y='QtdUsinas', hue='SigAgente')"
   ]
  },
  {
   "attachments": {},
   "cell_type": "markdown",
   "metadata": {},
   "source": [
    "Pelo gráfico acima, pode-se analisar um crescimento em todas distribuidoras, exceto a ENEL CE, na qual há uma tendência de estabilidade/queda, com o menor número de projetos nos últimos 2 anos. A Equatorial MA mostra uma tendência de crescimento ainda tímida, quando comparada a EMT, EMS e RGE SUL, e também não conta com tantos projetos por ano. Dito isso, é possível então descartar ambas, restando EMS, EMT e RGE SUL.\n",
    "\n",
    "Um problema, no entanto, é que a análise contempla uma divisão anual do número de projetos, e retona poucos dados para nossa análise (no máximo 5). Isso não é ideal. No caso, podemos reestrurar o dataset para dividir o número de usinas por semestre ou até mesmo trimestre, de modo a obter mais pontos e eliminar possíveis ruídos."
   ]
  },
  {
   "cell_type": "code",
   "execution_count": 25,
   "metadata": {},
   "outputs": [
    {
     "data": {
      "text/html": [
       "<div>\n",
       "<style scoped>\n",
       "    .dataframe tbody tr th:only-of-type {\n",
       "        vertical-align: middle;\n",
       "    }\n",
       "\n",
       "    .dataframe tbody tr th {\n",
       "        vertical-align: top;\n",
       "    }\n",
       "\n",
       "    .dataframe thead th {\n",
       "        text-align: right;\n",
       "    }\n",
       "</style>\n",
       "<table border=\"1\" class=\"dataframe\">\n",
       "  <thead>\n",
       "    <tr style=\"text-align: right;\">\n",
       "      <th></th>\n",
       "      <th>Semestre</th>\n",
       "      <th>SigAgente</th>\n",
       "      <th>QtdUsinas</th>\n",
       "    </tr>\n",
       "  </thead>\n",
       "  <tbody>\n",
       "    <tr>\n",
       "      <th>17</th>\n",
       "      <td>2019.0</td>\n",
       "      <td>RGE SUL</td>\n",
       "      <td>1</td>\n",
       "    </tr>\n",
       "    <tr>\n",
       "      <th>29</th>\n",
       "      <td>2019.5</td>\n",
       "      <td>RGE SUL</td>\n",
       "      <td>4</td>\n",
       "    </tr>\n",
       "    <tr>\n",
       "      <th>43</th>\n",
       "      <td>2020.0</td>\n",
       "      <td>RGE SUL</td>\n",
       "      <td>2</td>\n",
       "    </tr>\n",
       "    <tr>\n",
       "      <th>56</th>\n",
       "      <td>2020.5</td>\n",
       "      <td>RGE SUL</td>\n",
       "      <td>4</td>\n",
       "    </tr>\n",
       "    <tr>\n",
       "      <th>72</th>\n",
       "      <td>2021.0</td>\n",
       "      <td>RGE SUL</td>\n",
       "      <td>6</td>\n",
       "    </tr>\n",
       "    <tr>\n",
       "      <th>90</th>\n",
       "      <td>2021.5</td>\n",
       "      <td>RGE SUL</td>\n",
       "      <td>4</td>\n",
       "    </tr>\n",
       "    <tr>\n",
       "      <th>108</th>\n",
       "      <td>2022.0</td>\n",
       "      <td>RGE SUL</td>\n",
       "      <td>13</td>\n",
       "    </tr>\n",
       "    <tr>\n",
       "      <th>126</th>\n",
       "      <td>2022.5</td>\n",
       "      <td>RGE SUL</td>\n",
       "      <td>14</td>\n",
       "    </tr>\n",
       "    <tr>\n",
       "      <th>139</th>\n",
       "      <td>2023.0</td>\n",
       "      <td>RGE SUL</td>\n",
       "      <td>3</td>\n",
       "    </tr>\n",
       "  </tbody>\n",
       "</table>\n",
       "</div>"
      ],
      "text/plain": [
       "     Semestre SigAgente  QtdUsinas\n",
       "17     2019.0   RGE SUL          1\n",
       "29     2019.5   RGE SUL          4\n",
       "43     2020.0   RGE SUL          2\n",
       "56     2020.5   RGE SUL          4\n",
       "72     2021.0   RGE SUL          6\n",
       "90     2021.5   RGE SUL          4\n",
       "108    2022.0   RGE SUL         13\n",
       "126    2022.5   RGE SUL         14\n",
       "139    2023.0   RGE SUL          3"
      ]
     },
     "execution_count": 25,
     "metadata": {},
     "output_type": "execute_result"
    }
   ],
   "source": [
    "# adicionando coluna no dataset com divisão em semestres\n",
    "\n",
    "usinas_npar['Semestre'] = usinas_npar['DthAtualizaCadastralEmpreend'].dt.year + \\\n",
    "     np.where(usinas_npar['DthAtualizaCadastralEmpreend'].dt.month >= 7, 0.5, 0)\n",
    "\n",
    "usinas_npar_dist_sem = usinas_npar.groupby(['Semestre','SigAgente'])['SigAgente'].count().reset_index(name='QtdUsinas')\n",
    "\n",
    "# interpolando uma reta para cada distribuidora\n",
    "\n",
    "usinas_npar_dist_emt = usinas_npar_dist_sem[(usinas_npar_dist_sem['SigAgente']=='EMT')&(usinas_npar_dist_sem['Semestre']!='2023-1')]\n",
    "usinas_npar_dist_ems = usinas_npar_dist_sem[(usinas_npar_dist_sem['SigAgente']=='EMS')&(usinas_npar_dist_sem['Semestre']!='2023-1')]\n",
    "usinas_npar_dist_rge = usinas_npar_dist_sem[(usinas_npar_dist_sem['SigAgente']=='RGE SUL')&(usinas_npar_dist_sem['Semestre']!='2023-1')]\n",
    "usinas_npar_dist_rge"
   ]
  },
  {
   "cell_type": "code",
   "execution_count": 26,
   "metadata": {},
   "outputs": [],
   "source": [
    "# continução do processo de interpolação\n",
    "\n",
    "model_emt = LinearRegression()\n",
    "model_ems = LinearRegression()\n",
    "model_rge = LinearRegression()\n",
    "\n",
    "model_emt.fit(np.array(usinas_npar_dist_emt['Semestre']).reshape(-1, 1), usinas_npar_dist_emt['QtdUsinas'])\n",
    "model_ems.fit(np.array(usinas_npar_dist_ems['Semestre']).reshape(-1, 1), usinas_npar_dist_ems['QtdUsinas'])\n",
    "model_rge.fit(np.array(usinas_npar_dist_rge['Semestre']).reshape(-1, 1), usinas_npar_dist_rge['QtdUsinas'])\n",
    "\n",
    "usinas_npar_dist_emt['QtdUsinasPrev'] = model_emt.predict(np.array(usinas_npar_dist_emt['Semestre']).reshape(-1, 1))\n",
    "usinas_npar_dist_ems['QtdUsinasPrev'] = model_ems.predict(np.array(usinas_npar_dist_ems['Semestre']).reshape(-1, 1))\n",
    "usinas_npar_dist_rge['QtdUsinasPrev'] = model_rge.predict(np.array(usinas_npar_dist_rge['Semestre']).reshape(-1, 1))"
   ]
  },
  {
   "cell_type": "code",
   "execution_count": 27,
   "metadata": {},
   "outputs": [
    {
     "data": {
      "text/plain": [
       "Text(0.5, 1.0, 'RGE SUL')"
      ]
     },
     "execution_count": 27,
     "metadata": {},
     "output_type": "execute_result"
    },
    {
     "data": {
      "image/png": "[encoded data removed]",
      "text/plain": [
       "<Figure size 720x360 with 3 Axes>"
      ]
     },
     "metadata": {
      "needs_background": "light"
     },
     "output_type": "display_data"
    }
   ],
   "source": [
    "# plotar a visualização do numero de projetos por distribuidora e a reta calculada\n",
    "\n",
    "fig, ax = plt.subplots(1,3,figsize=(10,5), sharey=True)\n",
    "\n",
    "sns.scatterplot(x='Semestre', y='QtdUsinas', data=usinas_npar_dist_emt, ax=ax[0])\n",
    "ax[0].plot(usinas_npar_dist_emt['Semestre'], usinas_npar_dist_emt['QtdUsinasPrev'], color='r')\n",
    "ax[0].set_title('EMT')\n",
    "\n",
    "sns.scatterplot(x='Semestre', y='QtdUsinas', data=usinas_npar_dist_ems, ax=ax[1])\n",
    "ax[1].plot(usinas_npar_dist_ems['Semestre'], usinas_npar_dist_ems['QtdUsinasPrev'], color='r')\n",
    "ax[1].set_title('EMS')\n",
    "\n",
    "sns.scatterplot(x='Semestre', y='QtdUsinas', data=usinas_npar_dist_rge, ax=ax[2])\n",
    "ax[2].plot(usinas_npar_dist_rge['Semestre'], usinas_npar_dist_rge['QtdUsinasPrev'], color='r')\n",
    "ax[2].set_title('RGE SUL')"
   ]
  },
  {
   "cell_type": "code",
   "execution_count": 28,
   "metadata": {},
   "outputs": [
    {
     "name": "stderr",
     "output_type": "stream",
     "text": [
      "c:\\Users\\ediga\\AppData\\Local\\Programs\\Python\\Python310\\lib\\site-packages\\seaborn\\_decorators.py:36: FutureWarning: Pass the following variables as keyword args: x, y. From version 0.12, the only valid positional argument will be `data`, and passing other arguments without an explicit keyword will result in an error or misinterpretation.\n",
      "  warnings.warn(\n",
      "c:\\Users\\ediga\\AppData\\Local\\Programs\\Python\\Python310\\lib\\site-packages\\seaborn\\_decorators.py:36: FutureWarning: Pass the following variables as keyword args: x, y. From version 0.12, the only valid positional argument will be `data`, and passing other arguments without an explicit keyword will result in an error or misinterpretation.\n",
      "  warnings.warn(\n",
      "c:\\Users\\ediga\\AppData\\Local\\Programs\\Python\\Python310\\lib\\site-packages\\seaborn\\_decorators.py:36: FutureWarning: Pass the following variables as keyword args: x, y. From version 0.12, the only valid positional argument will be `data`, and passing other arguments without an explicit keyword will result in an error or misinterpretation.\n",
      "  warnings.warn(\n"
     ]
    },
    {
     "data": {
      "image/png": "[encoded data removed]",
      "text/plain": [
       "<Figure size 720x288 with 6 Axes>"
      ]
     },
     "metadata": {
      "needs_background": "light"
     },
     "output_type": "display_data"
    }
   ],
   "source": [
    "# analisando normalidade/homocedasticidade dos resíduos\n",
    "\n",
    "fig, ax = plt.subplots(3,2, figsize=(10,4))\n",
    "\n",
    "# plot de distribuicao dos erros\n",
    "usinas_npar_dist_emt['Erro'] = usinas_npar_dist_emt['QtdUsinasPrev'] - usinas_npar_dist_emt['QtdUsinas']\n",
    "usinas_npar_dist_ems['Erro'] = usinas_npar_dist_ems['QtdUsinasPrev'] - usinas_npar_dist_ems['QtdUsinas']\n",
    "usinas_npar_dist_rge['Erro'] = usinas_npar_dist_rge['QtdUsinasPrev'] - usinas_npar_dist_rge['QtdUsinas']\n",
    "\n",
    "usinas_npar_dist_emt['Erro'].plot(kind='kde', ax=ax[0,0])\n",
    "usinas_npar_dist_ems['Erro'].plot(kind='kde', ax=ax[1,0])\n",
    "usinas_npar_dist_rge['Erro'].plot(kind='kde', ax=ax[2,0])\n",
    "\n",
    "#plot de variabilidade do erro\n",
    "sns.scatterplot(usinas_npar_dist_emt['QtdUsinasPrev'], usinas_npar_dist_emt['Erro'], ax=ax[0,1])\n",
    "ax[0,1].plot(usinas_npar_dist_emt['QtdUsinasPrev'], np.linspace(0, 0, 10), color='black')\n",
    "\n",
    "sns.scatterplot(usinas_npar_dist_ems['QtdUsinasPrev'], usinas_npar_dist_ems['Erro'], ax=ax[1,1])\n",
    "ax[1,1].plot(usinas_npar_dist_ems['QtdUsinasPrev'], np.linspace(0, 0, 10), color='black')\n",
    "\n",
    "sns.scatterplot(usinas_npar_dist_rge['QtdUsinasPrev'], usinas_npar_dist_rge['Erro'], ax=ax[2,1])\n",
    "ax[2,1].plot(usinas_npar_dist_rge['QtdUsinasPrev'], np.linspace(0, 0, 9), color='black')\n",
    "\n",
    "plt.show()"
   ]
  },
  {
   "attachments": {},
   "cell_type": "markdown",
   "metadata": {},
   "source": [
    "Aplicar regressão linear em uma quantidade limitada de dados não é o ideal. Porém, dividindo por semestres, consegue-se obter mais dados e melhorar a regressão. Como visto acima, as métricas de validação indicam ser plausível utilizar regressão linear para prever o número de projetos em cada distribuidora, principalmente para EMT e RGE SUL. A distribuição da EMS particulamente não parece linearmente consistente, porém, para simplificação, ela atende os nossos critérios."
   ]
  },
  {
   "cell_type": "code",
   "execution_count": 29,
   "metadata": {},
   "outputs": [
    {
     "name": "stdout",
     "output_type": "stream",
     "text": [
      "EMT: [74.] usinas\n",
      "EMS: [24.] usinas\n",
      "RGE SUL: [22.] usinas\n"
     ]
    }
   ],
   "source": [
    "# calculo da previsão total de novas usinas por distribuidora, de acordo com a regressão\n",
    "# utilizar as mesmas premissas das distribuidoras parceiras (inicio em junho e finalizar 1 mes antes)\n",
    "\n",
    "inicio_ano_1 = 2023+6/12              # inicio em junho-2023, ou seja, após 6 meses do inicio do ano\n",
    "inicio_ano_2 = inicio_ano_1+1         # inicio do ano 2\n",
    "\n",
    "qtd_usinas_ano_1_emt = model_emt.coef_ * inicio_ano_1 + model_emt.intercept_\n",
    "qtd_usinas_ano_2_emt = model_emt.coef_ * inicio_ano_2 + model_emt.intercept_\n",
    "\n",
    "qtd_usinas_ano_1_ems = model_ems.coef_ * inicio_ano_1 + model_ems.intercept_\n",
    "qtd_usinas_ano_2_ems = model_ems.coef_ * inicio_ano_2 + model_ems.intercept_\n",
    "\n",
    "qtd_usinas_ano_1_rge = model_rge.coef_ * inicio_ano_1 + model_rge.intercept_\n",
    "qtd_usinas_ano_2_rge = model_rge.coef_ * inicio_ano_2 + model_rge.intercept_\n",
    "\n",
    "print(f'EMT: {np.round(qtd_usinas_ano_1_emt+qtd_usinas_ano_2_emt*11/12,0)} usinas')\n",
    "print(f'EMS: {np.round(qtd_usinas_ano_1_ems+qtd_usinas_ano_2_ems*11/12,0)} usinas')\n",
    "print(f'RGE SUL: {np.round(qtd_usinas_ano_1_rge+qtd_usinas_ano_2_rge*11/12,0)} usinas')"
   ]
  },
  {
   "attachments": {},
   "cell_type": "markdown",
   "metadata": {},
   "source": [
    "### Análise de Geração de Novos Projetos nas Distribuidoras Selecionadas"
   ]
  },
  {
   "cell_type": "code",
   "execution_count": 30,
   "metadata": {},
   "outputs": [
    {
     "name": "stderr",
     "output_type": "stream",
     "text": [
      "No artists with labels found to put in legend.  Note that artists whose label start with an underscore are ignored when legend() is called with no argument.\n"
     ]
    },
    {
     "data": {
      "text/plain": [
       "<AxesSubplot:xlabel='Semestre', ylabel='GeracaoMWhMedian'>"
      ]
     },
     "execution_count": 30,
     "metadata": {},
     "output_type": "execute_result"
    },
    {
     "data": {
      "image/png": "[encoded data removed]",
      "text/plain": [
       "<Figure size 720x288 with 2 Axes>"
      ]
     },
     "metadata": {
      "needs_background": "light"
     },
     "output_type": "display_data"
    }
   ],
   "source": [
    "usinas_npar_sel = usinas_npar[\n",
    "    usinas_npar['SigAgente'].isin(['EMT', 'EMS', 'RGE SUL'])]\n",
    "\n",
    "usinas_npar_dist_sem_median = usinas_npar_sel.groupby(\n",
    "    ['Semestre', 'SigAgente'])['GeracaoMWh'].median().reset_index(name='GeracaoMWhMedian')\n",
    "\n",
    "fig, ax = plt.subplots(1,2, figsize=(10,4))\n",
    "\n",
    "sns.scatterplot(x='Semestre', y='GeracaoMWhMedian', hue='SigAgente', data=usinas_npar_dist_sem_median, ax=ax[0])\n",
    "plt.legend(loc='upper left')\n",
    "sns.lineplot(x='Semestre', y='GeracaoMWhMedian', hue='SigAgente', data=usinas_npar_dist_sem_median, ax=ax[1])"
   ]
  },
  {
   "attachments": {},
   "cell_type": "markdown",
   "metadata": {},
   "source": [
    "Como mostrado acima no plot das medianas por projeto, em cada semestre, há uma tendência de crescimento em todas as distribuidoras, principalmente na RGE SUL, mas ainda com algumas oscilações. Mesmo que seja observado um crescimento, podemos utilizar como proxy a mediana dos últimos 2 semestres, que é similar para as três distribuidoras."
   ]
  },
  {
   "cell_type": "code",
   "execution_count": 31,
   "metadata": {},
   "outputs": [
    {
     "data": {
      "text/html": [
       "<div>\n",
       "<style scoped>\n",
       "    .dataframe tbody tr th:only-of-type {\n",
       "        vertical-align: middle;\n",
       "    }\n",
       "\n",
       "    .dataframe tbody tr th {\n",
       "        vertical-align: top;\n",
       "    }\n",
       "\n",
       "    .dataframe thead th {\n",
       "        text-align: right;\n",
       "    }\n",
       "</style>\n",
       "<table border=\"1\" class=\"dataframe\">\n",
       "  <thead>\n",
       "    <tr style=\"text-align: right;\">\n",
       "      <th></th>\n",
       "      <th>Semestre</th>\n",
       "      <th>SigAgente</th>\n",
       "      <th>GeracaoMWhMedian</th>\n",
       "    </tr>\n",
       "  </thead>\n",
       "  <tbody>\n",
       "    <tr>\n",
       "      <th>23</th>\n",
       "      <td>2022.5</td>\n",
       "      <td>EMS</td>\n",
       "      <td>149.25</td>\n",
       "    </tr>\n",
       "    <tr>\n",
       "      <th>24</th>\n",
       "      <td>2022.5</td>\n",
       "      <td>EMT</td>\n",
       "      <td>150.00</td>\n",
       "    </tr>\n",
       "    <tr>\n",
       "      <th>25</th>\n",
       "      <td>2022.5</td>\n",
       "      <td>RGE SUL</td>\n",
       "      <td>180.00</td>\n",
       "    </tr>\n",
       "    <tr>\n",
       "      <th>26</th>\n",
       "      <td>2023.0</td>\n",
       "      <td>EMS</td>\n",
       "      <td>150.00</td>\n",
       "    </tr>\n",
       "    <tr>\n",
       "      <th>27</th>\n",
       "      <td>2023.0</td>\n",
       "      <td>EMT</td>\n",
       "      <td>150.00</td>\n",
       "    </tr>\n",
       "    <tr>\n",
       "      <th>28</th>\n",
       "      <td>2023.0</td>\n",
       "      <td>RGE SUL</td>\n",
       "      <td>176.40</td>\n",
       "    </tr>\n",
       "  </tbody>\n",
       "</table>\n",
       "</div>"
      ],
      "text/plain": [
       "    Semestre SigAgente  GeracaoMWhMedian\n",
       "23    2022.5       EMS            149.25\n",
       "24    2022.5       EMT            150.00\n",
       "25    2022.5   RGE SUL            180.00\n",
       "26    2023.0       EMS            150.00\n",
       "27    2023.0       EMT            150.00\n",
       "28    2023.0   RGE SUL            176.40"
      ]
     },
     "execution_count": 31,
     "metadata": {},
     "output_type": "execute_result"
    }
   ],
   "source": [
    "# plot de tabela com os valores da mediana por distribuidora nos ultimos 2 semestres\n",
    "\n",
    "usinas_npar_dist_sem_median[usinas_npar_dist_sem_median['Semestre'].isin([2022.5, 2023.0])]"
   ]
  },
  {
   "attachments": {},
   "cell_type": "markdown",
   "metadata": {},
   "source": [
    "A tabela acima mostra ser possível considerar geração mediana de 150 MWh/mês para EMS e EMT, e de 177 MWh/mês para RGE SUL. Como os calculos feitos de previsão de novos projetos para os próximos 2 anos, é possível inferir a o ganho de geração por mês.\n",
    "\n",
    "É importante ressaltar aqui o tempo de negociação para fechar a parceria com essas distribuidoras. Como pressuposto antes de iniciar a análise, o prazo médio considerado é de 6 meses.\n",
    "Nesse cenário, seria importante iniciar tratativas em paralelo com essas 3 distribuidoras para tentar finalizar a parceria até o final de 2023. Desse modo, como o cálculo de novos projetos se inicia a partir de junho de 2023, essas usinas estariam em operação a pouco tempo, podendo ser considerados como projetos recentes e que podem ainda ser negociados pela Lemon, conforme feito com os projetos que já foram cadastrados em 2023.\n",
    "\n",
    "O ganho de geração com cada distribuidora seria:\n",
    "\n",
    "EMT: 150 × 6.4% × 74 = 710MWh/mês\n",
    "\n",
    "EMS: 150 × 6.4% × 24 = 230MWh/mês\n",
    "\n",
    "RGE SUL: 177 × 6.4% × 22 = 250MWh/mês\n",
    "\n",
    "Total: 1190 MWh/mês\n",
    "\n",
    "**O ganho total, fechando parceria com essas três distribuidoras, pode ser de aproximadamente 1.19GWh/mês. Somando isso aos já calculados 5.81GWh/mês das distribuidoras parceiras, atinge-se um valor potencial de 7GWh/mês, ou seja, exatamente 100% do objetivo!!!**\n",
    "\n",
    "---"
   ]
  },
  {
   "attachments": {},
   "cell_type": "markdown",
   "metadata": {},
   "source": [
    "### FONTE DE GERAÇÃO POR DISTRIBUIDORA\n",
    "\n",
    "Para finalizar a análise e gerar mais alguns insights, é possível analisar as fontes de energia mais utilizadas pelas distribuidoras parceiras e não parceiras selecionadas."
   ]
  },
  {
   "cell_type": "code",
   "execution_count": 32,
   "metadata": {},
   "outputs": [
    {
     "data": {
      "text/html": [
       "<div>\n",
       "<style scoped>\n",
       "    .dataframe tbody tr th:only-of-type {\n",
       "        vertical-align: middle;\n",
       "    }\n",
       "\n",
       "    .dataframe tbody tr th {\n",
       "        vertical-align: top;\n",
       "    }\n",
       "\n",
       "    .dataframe thead th {\n",
       "        text-align: right;\n",
       "    }\n",
       "</style>\n",
       "<table border=\"1\" class=\"dataframe\">\n",
       "  <thead>\n",
       "    <tr style=\"text-align: right;\">\n",
       "      <th></th>\n",
       "      <th>SigAgente</th>\n",
       "      <th>DscFonteGeracao</th>\n",
       "      <th>QtdUsinas</th>\n",
       "    </tr>\n",
       "  </thead>\n",
       "  <tbody>\n",
       "    <tr>\n",
       "      <th>0</th>\n",
       "      <td>CEBDIS</td>\n",
       "      <td>Radiação solar</td>\n",
       "      <td>77</td>\n",
       "    </tr>\n",
       "    <tr>\n",
       "      <th>1</th>\n",
       "      <td>CELPE</td>\n",
       "      <td>Radiação solar</td>\n",
       "      <td>28</td>\n",
       "    </tr>\n",
       "    <tr>\n",
       "      <th>2</th>\n",
       "      <td>CEMIG-D</td>\n",
       "      <td>Biogás - RA</td>\n",
       "      <td>3</td>\n",
       "    </tr>\n",
       "    <tr>\n",
       "      <th>3</th>\n",
       "      <td>CEMIG-D</td>\n",
       "      <td>Biogás - RU</td>\n",
       "      <td>1</td>\n",
       "    </tr>\n",
       "    <tr>\n",
       "      <th>4</th>\n",
       "      <td>CEMIG-D</td>\n",
       "      <td>Gás de Alto Forno - Biomassa</td>\n",
       "      <td>1</td>\n",
       "    </tr>\n",
       "    <tr>\n",
       "      <th>5</th>\n",
       "      <td>CEMIG-D</td>\n",
       "      <td>Potencial hidráulico</td>\n",
       "      <td>30</td>\n",
       "    </tr>\n",
       "    <tr>\n",
       "      <th>6</th>\n",
       "      <td>CEMIG-D</td>\n",
       "      <td>Radiação solar</td>\n",
       "      <td>236</td>\n",
       "    </tr>\n",
       "    <tr>\n",
       "      <th>7</th>\n",
       "      <td>CPFL-PAULISTA</td>\n",
       "      <td>Radiação solar</td>\n",
       "      <td>68</td>\n",
       "    </tr>\n",
       "    <tr>\n",
       "      <th>8</th>\n",
       "      <td>ELEKTRO</td>\n",
       "      <td>Biogás-AGR</td>\n",
       "      <td>1</td>\n",
       "    </tr>\n",
       "    <tr>\n",
       "      <th>9</th>\n",
       "      <td>ELEKTRO</td>\n",
       "      <td>Potencial hidráulico</td>\n",
       "      <td>1</td>\n",
       "    </tr>\n",
       "    <tr>\n",
       "      <th>10</th>\n",
       "      <td>ELEKTRO</td>\n",
       "      <td>Radiação solar</td>\n",
       "      <td>16</td>\n",
       "    </tr>\n",
       "    <tr>\n",
       "      <th>11</th>\n",
       "      <td>EMS</td>\n",
       "      <td>Radiação solar</td>\n",
       "      <td>69</td>\n",
       "    </tr>\n",
       "    <tr>\n",
       "      <th>12</th>\n",
       "      <td>EMT</td>\n",
       "      <td>Biogás - RA</td>\n",
       "      <td>5</td>\n",
       "    </tr>\n",
       "    <tr>\n",
       "      <th>13</th>\n",
       "      <td>EMT</td>\n",
       "      <td>Radiação solar</td>\n",
       "      <td>140</td>\n",
       "    </tr>\n",
       "    <tr>\n",
       "      <th>14</th>\n",
       "      <td>Equatorial GO</td>\n",
       "      <td>Biogás - Floresta</td>\n",
       "      <td>1</td>\n",
       "    </tr>\n",
       "    <tr>\n",
       "      <th>15</th>\n",
       "      <td>Equatorial GO</td>\n",
       "      <td>Biogás-AGR</td>\n",
       "      <td>1</td>\n",
       "    </tr>\n",
       "    <tr>\n",
       "      <th>16</th>\n",
       "      <td>Equatorial GO</td>\n",
       "      <td>Radiação solar</td>\n",
       "      <td>41</td>\n",
       "    </tr>\n",
       "    <tr>\n",
       "      <th>17</th>\n",
       "      <td>LIGHT</td>\n",
       "      <td>Biogás - RU</td>\n",
       "      <td>6</td>\n",
       "    </tr>\n",
       "    <tr>\n",
       "      <th>18</th>\n",
       "      <td>LIGHT</td>\n",
       "      <td>Potencial hidráulico</td>\n",
       "      <td>6</td>\n",
       "    </tr>\n",
       "    <tr>\n",
       "      <th>19</th>\n",
       "      <td>LIGHT</td>\n",
       "      <td>Radiação solar</td>\n",
       "      <td>34</td>\n",
       "    </tr>\n",
       "    <tr>\n",
       "      <th>20</th>\n",
       "      <td>RGE SUL</td>\n",
       "      <td>Radiação solar</td>\n",
       "      <td>51</td>\n",
       "    </tr>\n",
       "  </tbody>\n",
       "</table>\n",
       "</div>"
      ],
      "text/plain": [
       "        SigAgente               DscFonteGeracao  QtdUsinas\n",
       "0          CEBDIS                Radiação solar         77\n",
       "1           CELPE                Radiação solar         28\n",
       "2         CEMIG-D                   Biogás - RA          3\n",
       "3         CEMIG-D                   Biogás - RU          1\n",
       "4         CEMIG-D  Gás de Alto Forno - Biomassa          1\n",
       "5         CEMIG-D          Potencial hidráulico         30\n",
       "6         CEMIG-D                Radiação solar        236\n",
       "7   CPFL-PAULISTA                Radiação solar         68\n",
       "8         ELEKTRO                    Biogás-AGR          1\n",
       "9         ELEKTRO          Potencial hidráulico          1\n",
       "10        ELEKTRO                Radiação solar         16\n",
       "11            EMS                Radiação solar         69\n",
       "12            EMT                   Biogás - RA          5\n",
       "13            EMT                Radiação solar        140\n",
       "14  Equatorial GO             Biogás - Floresta          1\n",
       "15  Equatorial GO                    Biogás-AGR          1\n",
       "16  Equatorial GO                Radiação solar         41\n",
       "17          LIGHT                   Biogás - RU          6\n",
       "18          LIGHT          Potencial hidráulico          6\n",
       "19          LIGHT                Radiação solar         34\n",
       "20        RGE SUL                Radiação solar         51"
      ]
     },
     "execution_count": 32,
     "metadata": {},
     "output_type": "execute_result"
    }
   ],
   "source": [
    "usinas_par_nparsel = usinas_tot[usinas_tot['SigAgente'].isin(\n",
    "    ['CEBDIS', 'CELPE', 'CEMIG-D', 'CPFL-PAULISTA', 'ELEKTRO', 'LIGHT', 'Equatorial GO', 'EMT', 'EMS', 'RGE SUL']\n",
    ")]\n",
    "\n",
    "usinas_par_nparsel_fonte = usinas_par_nparsel.groupby(['SigAgente','DscFonteGeracao'])['DscFonteGeracao'].count()\\\n",
    "    .reset_index(name='QtdUsinas')\n",
    "\n",
    "usinas_par_nparsel_fonte"
   ]
  },
  {
   "cell_type": "code",
   "execution_count": 33,
   "metadata": {},
   "outputs": [
    {
     "data": {
      "text/plain": [
       "<AxesSubplot:xlabel='SigAgente', ylabel='QtdUsinas'>"
      ]
     },
     "execution_count": 33,
     "metadata": {},
     "output_type": "execute_result"
    },
    {
     "data": {
      "image/png": "[encoded data removed]",
      "text/plain": [
       "<Figure size 720x360 with 1 Axes>"
      ]
     },
     "metadata": {
      "needs_background": "light"
     },
     "output_type": "display_data"
    }
   ],
   "source": [
    "fig, ax = plt.subplots(1,1, figsize=(10,5))\n",
    "sns.barplot(x='SigAgente', y='QtdUsinas', hue='DscFonteGeracao', data=usinas_par_nparsel_fonte)"
   ]
  },
  {
   "attachments": {},
   "cell_type": "markdown",
   "metadata": {},
   "source": [
    "Não há discussão: solar fotovoltaica é de longe o tipo de geração mais conectada a todas as distribuidoras. Capacitar ainda mais o time para negociação com usinas solares pode ser o caminho para atinger um maior número de projetos."
   ]
  }
 ],
 "metadata": {
  "kernelspec": {
   "display_name": "Python 3",
   "language": "python",
   "name": "python3"
  },
  "language_info": {
   "codemirror_mode": {
    "name": "ipython",
    "version": 3
   },
   "file_extension": ".py",
   "mimetype": "text/x-python",
   "name": "python",
   "nbconvert_exporter": "python",
   "pygments_lexer": "ipython3",
   "version": "3.10.4"
  },
  "orig_nbformat": 4
 },
 "nbformat": 4,
 "nbformat_minor": 2
}
